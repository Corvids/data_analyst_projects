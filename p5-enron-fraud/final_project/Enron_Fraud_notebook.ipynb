{
 "cells": [
  {
   "cell_type": "code",
   "execution_count": 1,
   "metadata": {
    "collapsed": true
   },
   "outputs": [],
   "source": [
    "#!/usr/bin/python\n",
    "import sys\n",
    "import pickle\n",
    "sys.path.append(\"../tools/\")"
   ]
  },
  {
   "cell_type": "code",
   "execution_count": 2,
   "metadata": {
    "collapsed": true
   },
   "outputs": [],
   "source": [
    "import numpy as np\n",
    "import pandas as pd\n",
    "from collections import Counter\n",
    "import pprint\n",
    "\n",
    "# ref: https://github.com/Corvids/ud120-projects (includes all module 5 starter code)\n",
    "from feature_format import featureFormat, targetFeatureSplit\n",
    "from tester import dump_classifier_and_data"
   ]
  },
  {
   "cell_type": "markdown",
   "metadata": {},
   "source": [
    "### Task 1: Load the Dataset and Initial Features"
   ]
  },
  {
   "cell_type": "markdown",
   "metadata": {},
   "source": [
    "#### Question 1:\n",
    "\n",
    "**Summarize for us the goal of this project and how machine learning is useful in trying to accomplish it. As part of your answer, give some background on the dataset and how it can be used to answer the project question. Were there any outliers in the data when you got it, and how did you handle those?  [relevant rubric items: “data exploration”, “outlier investigation”]**"
   ]
  },
  {
   "cell_type": "markdown",
   "metadata": {},
   "source": [
    "The goal of this project is to identify Enron Employees who may have committed fraud based on the available financial and email dataset using machine learning.\n",
    "\n",
    "A major outlier in the dataset was the \"Total\" data point, which was removed, as seen in the following code."
   ]
  },
  {
   "cell_type": "code",
   "execution_count": 3,
   "metadata": {
    "collapsed": true
   },
   "outputs": [],
   "source": [
    "### Task 1: Select what features you'll use.\n",
    "### features_list is a list of strings, each of which is a feature name.\n",
    "### The first feature must be \"poi\".\n",
    "features_list = ['poi', 'salary', 'deferral_payments', 'total_payments',\n",
    "                 'loan_advances', 'bonus', 'restricted_stock_deferred',\n",
    "                 'deferred_income', 'total_stock_value', 'expenses',\n",
    "                 'exercised_stock_options', 'other', 'long_term_incentive',\n",
    "                 'restricted_stock', 'director_fees',\n",
    "                 'to_messages', 'from_poi_to_this_person',\n",
    "                 'from_messages', 'from_this_person_to_poi', 'shared_receipt_with_poi']"
   ]
  },
  {
   "cell_type": "markdown",
   "metadata": {},
   "source": [
    "### Task 2: Understanding the Dataset and Question"
   ]
  },
  {
   "cell_type": "code",
   "execution_count": 4,
   "metadata": {
    "collapsed": false
   },
   "outputs": [
    {
     "name": "stdout",
     "output_type": "stream",
     "text": [
      "data loaded!\n",
      "Number of initial data points:  146\n",
      "Number of initial features used:  20\n"
     ]
    }
   ],
   "source": [
    "### Load the dictionary containing the dataset\n",
    "with open(\"final_project_dataset.pkl\", \"r\") as data_file:\n",
    "    data_dict = pickle.load(data_file)\n",
    "\n",
    "if len(data_dict) > 0:\n",
    "    print 'data loaded!'\n",
    "    print 'Number of initial data points: ', len(data_dict)\n",
    "    print 'Number of initial features used: ', len(features_list)"
   ]
  },
  {
   "cell_type": "code",
   "execution_count": 5,
   "metadata": {
    "collapsed": false
   },
   "outputs": [
    {
     "name": "stdout",
     "output_type": "stream",
     "text": [
      "Number of POI:  18\n",
      "Number of non-POI:  128\n"
     ]
    }
   ],
   "source": [
    "# get number of POI in data\n",
    "poi_count = []\n",
    "for key in data_dict.keys():\n",
    "    poi_count.append(data_dict[key]['poi'])\n",
    "\n",
    "print 'Number of POI: ', poi_count.count(1)\n",
    "print 'Number of non-POI: ', poi_count.count(0)"
   ]
  },
  {
   "cell_type": "code",
   "execution_count": 6,
   "metadata": {
    "collapsed": false
   },
   "outputs": [
    {
     "name": "stdout",
     "output_type": "stream",
     "text": [
      "list of all people in the dataset: \n",
      "['METTS MARK', 'BAXTER JOHN C', 'ELLIOTT STEVEN', 'CORDES WILLIAM R', 'HANNON KEVIN P', 'MORDAUNT KRISTINA M', 'MEYER ROCKFORD G', 'MCMAHON JEFFREY', 'HORTON STANLEY C', 'PIPER GREGORY F', 'HUMPHREY GENE E', 'UMANOFF ADAM S', 'BLACHMAN JEREMY M', 'SUNDE MARTIN', 'GIBBS DANA R', 'LOWRY CHARLES P', 'COLWELL WESLEY', 'MULLER MARK S', 'JACKSON CHARLENE R', 'WESTFAHL RICHARD K', 'WALTERS GARETH W', 'WALLS JR ROBERT H', 'KITCHEN LOUISE', 'CHAN RONNIE', 'BELFER ROBERT', 'SHANKMAN JEFFREY A', 'WODRASKA JOHN', 'BERGSIEKER RICHARD P', 'URQUHART JOHN A', 'BIBI PHILIPPE A', 'RIEKER PAULA H', 'WHALEY DAVID A', 'BECK SALLY W', 'HAUG DAVID L', 'ECHOLS JOHN B', 'MENDELSOHN JOHN', 'HICKERSON GARY J', 'CLINE KENNETH W', 'LEWIS RICHARD', 'HAYES ROBERT E', 'MCCARTY DANNY J', 'KOPPER MICHAEL J', 'LEFF DANIEL P', 'LAVORATO JOHN J', 'BERBERIAN DAVID', 'DETMERING TIMOTHY J', 'WAKEHAM JOHN', 'POWERS WILLIAM', 'GOLD JOSEPH', 'BANNANTINE JAMES M', 'DUNCAN JOHN H', 'SHAPIRO RICHARD S', 'SHERRIFF JOHN R', 'SHELBY REX', 'LEMAISTRE CHARLES', 'DEFFNER JOSEPH M', 'KISHKILL JOSEPH G', 'WHALLEY LAWRENCE G', 'MCCONNELL MICHAEL S', 'PIRO JIM', 'DELAINEY DAVID W', 'SULLIVAN-SHAKLOVITZ COLLEEN', 'WROBEL BRUCE', 'LINDHOLM TOD A', 'MEYER JEROME J', 'LAY KENNETH L', 'BUTTS ROBERT H', 'OLSON CINDY K', 'MCDONALD REBECCA', 'CUMBERLAND MICHAEL S', 'GAHN ROBERT S', 'MCCLELLAN GEORGE', 'HERMANN ROBERT J', 'SCRIMSHAW MATTHEW', 'GATHMANN WILLIAM D', 'HAEDICKE MARK E', 'BOWEN JR RAYMOND M', 'GILLIS JOHN', 'FITZGERALD JAY L', 'MORAN MICHAEL P', 'REDMOND BRIAN L', 'BAZELIDES PHILIP J', 'BELDEN TIMOTHY N', 'DURAN WILLIAM D', 'THORN TERENCE H', 'FASTOW ANDREW S', 'FOY JOE', 'CALGER CHRISTOPHER F', 'RICE KENNETH D', 'KAMINSKI WINCENTY J', 'LOCKHART EUGENE E', 'COX DAVID', 'OVERDYKE JR JERE C', 'PEREIRA PAULO V. FERRAZ', 'STABLER FRANK', 'SKILLING JEFFREY K', 'BLAKE JR. NORMAN P', 'SHERRICK JEFFREY B', 'PRENTICE JAMES', 'GRAY RODNEY', 'PICKERING MARK R', 'THE TRAVEL AGENCY IN THE PARK', 'NOLES JAMES L', 'KEAN STEVEN J', 'TOTAL', 'FOWLER PEGGY', 'WASAFF GEORGE', 'WHITE JR THOMAS E', 'CHRISTODOULOU DIOMEDES', 'ALLEN PHILLIP K', 'SHARP VICTORIA T', 'JAEDICKE ROBERT', 'WINOKUR JR. HERBERT S', 'BROWN MICHAEL', 'BADUM JAMES P', 'HUGHES JAMES A', 'REYNOLDS LAWRENCE', 'DIMICHELE RICHARD G', 'BHATNAGAR SANJAY', 'CARTER REBECCA C', 'BUCHANAN HAROLD G', 'YEAP SOON', 'MURRAY JULIA H', 'GARLAND C KEVIN', 'DODSON KEITH', 'YEAGER F SCOTT', 'HIRKO JOSEPH', 'DIETRICH JANET R', 'DERRICK JR. JAMES V', 'FREVERT MARK A', 'PAI LOU L', 'BAY FRANKLIN R', 'HAYSLETT RODERICK J', 'FUGH JOHN L', 'FALLON JAMES B', 'KOENIG MARK E', 'SAVAGE FRANK', 'IZZO LAWRENCE L', 'TILNEY ELIZABETH A', 'MARTIN AMANDA K', 'BUY RICHARD B', 'GRAMM WENDY L', 'CAUSEY RICHARD A', 'TAYLOR MITCHELL S', 'DONAHUE JR JEFFREY M', 'GLISAN JR BEN F']\n"
     ]
    }
   ],
   "source": [
    "print 'list of all people in the dataset: '\n",
    "print data_dict.keys()"
   ]
  },
  {
   "cell_type": "code",
   "execution_count": 7,
   "metadata": {
    "collapsed": true
   },
   "outputs": [],
   "source": [
    "# get number of missing values per person\n",
    "missing_feature = [0 for i in range(0, len(features_list))]\n",
    "features_in_data = data_dict.values()\n",
    "\n",
    "for loc_p, person in enumerate(features_in_data):\n",
    "    for loc_f, feature in enumerate(features_list):\n",
    "        if person[feature] == 'NaN':\n",
    "            missing_feature[loc_f] += 1"
   ]
  },
  {
   "cell_type": "code",
   "execution_count": 8,
   "metadata": {
    "collapsed": false
   },
   "outputs": [
    {
     "name": "stdout",
     "output_type": "stream",
     "text": [
      "Number of missing from each feature: \n",
      "poi  --  0\n",
      "salary  --  51\n",
      "deferral_payments  --  107\n",
      "total_payments  --  21\n",
      "loan_advances  --  142\n",
      "bonus  --  64\n",
      "restricted_stock_deferred  --  128\n",
      "deferred_income  --  97\n",
      "total_stock_value  --  20\n",
      "expenses  --  51\n",
      "exercised_stock_options  --  44\n",
      "other  --  53\n",
      "long_term_incentive  --  80\n",
      "restricted_stock  --  36\n",
      "director_fees  --  129\n",
      "to_messages  --  60\n",
      "from_poi_to_this_person  --  60\n",
      "from_messages  --  60\n",
      "from_this_person_to_poi  --  60\n",
      "shared_receipt_with_poi  --  60\n"
     ]
    }
   ],
   "source": [
    "print 'Number of missing from each feature: '\n",
    "for feature, num_missing in zip(features_list, missing_feature):\n",
    "    print feature, ' -- ', num_missing"
   ]
  },
  {
   "cell_type": "code",
   "execution_count": 9,
   "metadata": {
    "collapsed": false
   },
   "outputs": [
    {
     "name": "stdout",
     "output_type": "stream",
     "text": [
      "{   'bonus': 5600000,\n",
      "    'deferral_payments': 'NaN',\n",
      "    'deferred_income': 'NaN',\n",
      "    'director_fees': 'NaN',\n",
      "    'email_address': 'jeff.skilling@enron.com',\n",
      "    'exercised_stock_options': 19250000,\n",
      "    'expenses': 29336,\n",
      "    'from_messages': 108,\n",
      "    'from_poi_to_this_person': 88,\n",
      "    'from_this_person_to_poi': 30,\n",
      "    'loan_advances': 'NaN',\n",
      "    'long_term_incentive': 1920000,\n",
      "    'other': 22122,\n",
      "    'poi': True,\n",
      "    'restricted_stock': 6843672,\n",
      "    'restricted_stock_deferred': 'NaN',\n",
      "    'salary': 1111258,\n",
      "    'shared_receipt_with_poi': 2042,\n",
      "    'to_messages': 3627,\n",
      "    'total_payments': 8682716,\n",
      "    'total_stock_value': 26093672}\n"
     ]
    }
   ],
   "source": [
    "# print structure\n",
    "pp = pprint.PrettyPrinter(indent=4)\n",
    "pp.pprint(data_dict[\"SKILLING JEFFREY K\"])"
   ]
  },
  {
   "cell_type": "markdown",
   "metadata": {},
   "source": [
    "##### Removing the outlier"
   ]
  },
  {
   "cell_type": "code",
   "execution_count": 10,
   "metadata": {
    "collapsed": false
   },
   "outputs": [],
   "source": [
    "import matplotlib.pyplot\n",
    "\n",
    "%matplotlib inline\n",
    "\n",
    "features = [\"salary\", \"bonus\"]\n",
    "data = featureFormat(data_dict, features)"
   ]
  },
  {
   "cell_type": "code",
   "execution_count": 11,
   "metadata": {
    "collapsed": false
   },
   "outputs": [
    {
     "data": {
      "image/png": "[encoded data removed]",
      "text/plain": [
       "<matplotlib.figure.Figure at 0x978c5f8>"
      ]
     },
     "metadata": {},
     "output_type": "display_data"
    }
   ],
   "source": [
    "for point in data:\n",
    "    salary = point[0]\n",
    "    bonus = point[1]\n",
    "    matplotlib.pyplot.scatter( salary, bonus )\n",
    "\n",
    "matplotlib.pyplot.xlabel(\"salary\")\n",
    "matplotlib.pyplot.ylabel(\"bonus\")\n",
    "matplotlib.pyplot.show()"
   ]
  },
  {
   "cell_type": "code",
   "execution_count": 12,
   "metadata": {
    "collapsed": false
   },
   "outputs": [
    {
     "name": "stdout",
     "output_type": "stream",
     "text": [
      "Now removing outliers . . . \n",
      "Removing point named \"Total\" from data...\n",
      "Number of data points after removal:  145\n"
     ]
    }
   ],
   "source": [
    "### Task 2: Remove outliers\n",
    "##following outlier cleaner adapted\n",
    "## from outliers mini-project\n",
    "\n",
    "# remove total -- top right point separate from bottom left cluster\n",
    "print 'Now removing outliers . . . '\n",
    "print 'Removing point named \"Total\" from data...'\n",
    "data_dict.pop('TOTAL')\n",
    "print 'Number of data points after removal: ', len(data_dict)"
   ]
  },
  {
   "cell_type": "code",
   "execution_count": 13,
   "metadata": {
    "collapsed": false
   },
   "outputs": [
    {
     "data": {
      "image/png": "[encoded data removed]",
      "text/plain": [
       "<matplotlib.figure.Figure at 0x978c400>"
      ]
     },
     "metadata": {},
     "output_type": "display_data"
    }
   ],
   "source": [
    "data = featureFormat(data_dict, features)\n",
    "\n",
    "for point in data:\n",
    "    salary = point[0]\n",
    "    bonus = point[1]\n",
    "    matplotlib.pyplot.scatter( salary, bonus )\n",
    "\n",
    "matplotlib.pyplot.xlabel(\"salary\")\n",
    "matplotlib.pyplot.ylabel(\"bonus\")\n",
    "matplotlib.pyplot.show()"
   ]
  },
  {
   "cell_type": "markdown",
   "metadata": {},
   "source": [
    "### Task 3: Optimize Feature Selection/Engineering"
   ]
  },
  {
   "cell_type": "markdown",
   "metadata": {},
   "source": [
    "#### Question 2:\n",
    "\n",
    "**What features did you end up using in your POI identifier, and what selection process did you use to pick them? Did you have to do any scaling? Why or why not? As part of the assignment, you should attempt to engineer your own feature that does not come ready-made in the dataset -- explain what feature you tried to make, and the rationale behind it. (You do not necessarily have to use it in the final analysis, only engineer and test it.) In your feature selection step, if you used an algorithm like a decision tree, please also give the feature importances of the features that you use, and if you used an automated feature selection function like SelectKBest, please report the feature scores and reasons for your choice of parameter values.  [relevant rubric items: “create new features”, “properly scale features”, “intelligently select feature”]**"
   ]
  },
  {
   "cell_type": "markdown",
   "metadata": {},
   "source": [
    "TBD"
   ]
  },
  {
   "cell_type": "code",
   "execution_count": 14,
   "metadata": {
    "collapsed": false
   },
   "outputs": [],
   "source": [
    "### Task 3: Create new feature(s)\n",
    "\n",
    "### Store to my_dataset for easy export below.\n",
    "my_dataset = data_dict\n",
    "\n",
    "### Extract features and labels from dataset for local testing\n",
    "data = featureFormat(my_dataset, features_list, sort_keys = True)\n",
    "labels, features = targetFeatureSplit(data)"
   ]
  },
  {
   "cell_type": "code",
   "execution_count": 15,
   "metadata": {
    "collapsed": false
   },
   "outputs": [],
   "source": [
    "for key in my_dataset:\n",
    "    #messages to POI\n",
    "    if my_dataset[key]['from_messages'] != 'NaN':\n",
    "        my_dataset[key]['to_poi_message_ratio'] = \\\n",
    "                1.0*my_dataset[key]['from_this_person_to_poi']/my_dataset[key]['from_messages']\n",
    "    else:\n",
    "        my_dataset[key]['to_poi_message_ratio'] = 'NaN'\n",
    "    #messages from POI\n",
    "    if my_dataset[key]['to_messages'] != 'NaN':\n",
    "        my_dataset[key]['from_poi_message_ratio'] = \\\n",
    "                1.0*my_dataset[key]['from_poi_to_this_person']/my_dataset[key]['to_messages']\n",
    "    else:\n",
    "        my_dataset[key]['from_poi_message_ratio'] = 'NaN'"
   ]
  },
  {
   "cell_type": "code",
   "execution_count": 16,
   "metadata": {
    "collapsed": false
   },
   "outputs": [],
   "source": [
    "# update the feature list\n",
    "features_list = ['poi', 'salary', 'deferral_payments', 'total_payments',\n",
    "                 'loan_advances', 'bonus', 'restricted_stock_deferred',\n",
    "                 'deferred_income', 'total_stock_value', 'expenses',\n",
    "                 'exercised_stock_options', 'other', 'long_term_incentive',\n",
    "                 'restricted_stock', 'director_fees',\n",
    "                 'to_messages', 'from_poi_to_this_person',\n",
    "                 'from_messages', 'from_this_person_to_poi',\n",
    "                 'shared_receipt_with_poi',\n",
    "                 'to_poi_message_ratio', 'from_poi_message_ratio']\n"
   ]
  },
  {
   "cell_type": "code",
   "execution_count": 17,
   "metadata": {
    "collapsed": false
   },
   "outputs": [
    {
     "name": "stdout",
     "output_type": "stream",
     "text": [
      "{   'bonus': 5600000,\n",
      "    'deferral_payments': 'NaN',\n",
      "    'deferred_income': 'NaN',\n",
      "    'director_fees': 'NaN',\n",
      "    'email_address': 'jeff.skilling@enron.com',\n",
      "    'exercised_stock_options': 19250000,\n",
      "    'expenses': 29336,\n",
      "    'from_messages': 108,\n",
      "    'from_poi_message_ratio': 0.0242624758753791,\n",
      "    'from_poi_to_this_person': 88,\n",
      "    'from_this_person_to_poi': 30,\n",
      "    'loan_advances': 'NaN',\n",
      "    'long_term_incentive': 1920000,\n",
      "    'other': 22122,\n",
      "    'poi': True,\n",
      "    'restricted_stock': 6843672,\n",
      "    'restricted_stock_deferred': 'NaN',\n",
      "    'salary': 1111258,\n",
      "    'shared_receipt_with_poi': 2042,\n",
      "    'to_messages': 3627,\n",
      "    'to_poi_message_ratio': 0.2777777777777778,\n",
      "    'total_payments': 8682716,\n",
      "    'total_stock_value': 26093672}\n"
     ]
    }
   ],
   "source": [
    "pp.pprint(my_dataset[\"SKILLING JEFFREY K\"])"
   ]
  },
  {
   "cell_type": "code",
   "execution_count": 18,
   "metadata": {
    "collapsed": false
   },
   "outputs": [
    {
     "name": "stdout",
     "output_type": "stream",
     "text": [
      "After adding two new features: to_poi_message_ratio, from_poi_message_ratio\n",
      "Number of initial data points:  145\n",
      "Number of initial features used:  22\n"
     ]
    }
   ],
   "source": [
    "if len(data_dict) > 0:\n",
    "    print 'After adding two new features: to_poi_message_ratio, from_poi_message_ratio'\n",
    "    print 'Number of initial data points: ', len(my_dataset)\n",
    "    print 'Number of initial features used: ', len(features_list)"
   ]
  },
  {
   "cell_type": "markdown",
   "metadata": {},
   "source": [
    "##### Scaling our features"
   ]
  },
  {
   "cell_type": "code",
   "execution_count": 19,
   "metadata": {
    "collapsed": false
   },
   "outputs": [],
   "source": [
    "def scaleFeatures(my_dataset, feature):\n",
    "    min_scale = np.inf\n",
    "    max_scale = -np.inf\n",
    "    \n",
    "    for key in my_dataset:\n",
    "        # get min, max\n",
    "        if my_dataset[key][feature] == 'NaN':\n",
    "            pass\n",
    "        else:\n",
    "            if my_dataset[key][feature] < min_scale:\n",
    "                min_scale = my_dataset[key][feature]\n",
    "            if my_dataset[key][feature] > max_scale:\n",
    "                max_scale =  my_dataset[key][feature]\n",
    "    \n",
    "    print 'min ' + str(feature) + ' is: ' + str(min_scale)\n",
    "    print 'max ' + str(feature) + ' is: ' + str(max_scale)\n",
    "    \n",
    "    for key in my_dataset:\n",
    "        if my_dataset[key][feature] == 'NaN':\n",
    "            pass\n",
    "        else:\n",
    "            my_dataset[key][feature] = 1.0*(my_dataset[key][feature] - min_scale) / (max_scale - min_scale)\n",
    "    \n",
    "    print 'scaled feature ' + str(feature) + '!'\n",
    "    print '=========='"
   ]
  },
  {
   "cell_type": "code",
   "execution_count": 20,
   "metadata": {
    "collapsed": false
   },
   "outputs": [
    {
     "name": "stdout",
     "output_type": "stream",
     "text": [
      "min bonus is: 70000\n",
      "max bonus is: 8000000\n",
      "scaled feature bonus!\n",
      "==========\n",
      "min salary is: 477\n",
      "max salary is: 1111258\n",
      "scaled feature salary!\n",
      "==========\n",
      "min restricted_stock is: -2604490\n",
      "max restricted_stock is: 14761694\n",
      "scaled feature restricted_stock!\n",
      "==========\n",
      "min long_term_incentive is: 69223\n",
      "max long_term_incentive is: 5145434\n",
      "scaled feature long_term_incentive!\n",
      "==========\n",
      "min restricted_stock_deferred is: -1787380\n",
      "max restricted_stock_deferred is: 15456290\n",
      "scaled feature restricted_stock_deferred!\n",
      "==========\n",
      "min total_payments is: 148\n",
      "max total_payments is: 103559793\n",
      "scaled feature total_payments!\n",
      "==========\n",
      "min total_stock_value is: -44093\n",
      "max total_stock_value is: 49110078\n",
      "scaled feature total_stock_value!\n",
      "==========\n",
      "min exercised_stock_options is: 3285\n",
      "max exercised_stock_options is: 34348384\n",
      "scaled feature exercised_stock_options!\n",
      "==========\n",
      "min expenses is: 148\n",
      "max expenses is: 228763\n",
      "scaled feature expenses!\n",
      "==========\n"
     ]
    }
   ],
   "source": [
    "features_to_scale = ['bonus', 'salary', 'restricted_stock',\n",
    "                     'long_term_incentive',\n",
    "                     'restricted_stock_deferred', 'total_payments',\n",
    "                    'total_stock_value', 'exercised_stock_options',\n",
    "                    'expenses']\n",
    "\n",
    "for feature in features_to_scale:\n",
    "    scaleFeatures(my_dataset, feature)"
   ]
  },
  {
   "cell_type": "code",
   "execution_count": 21,
   "metadata": {
    "collapsed": false
   },
   "outputs": [
    {
     "name": "stdout",
     "output_type": "stream",
     "text": [
      "{   'bonus': 0.6973518284993695,\n",
      "    'deferral_payments': 'NaN',\n",
      "    'deferred_income': 'NaN',\n",
      "    'director_fees': 'NaN',\n",
      "    'email_address': 'jeff.skilling@enron.com',\n",
      "    'exercised_stock_options': 0.5603918917223095,\n",
      "    'expenses': 0.1276731623034359,\n",
      "    'from_messages': 108,\n",
      "    'from_poi_message_ratio': 0.0242624758753791,\n",
      "    'from_poi_to_this_person': 88,\n",
      "    'from_this_person_to_poi': 30,\n",
      "    'loan_advances': 'NaN',\n",
      "    'long_term_incentive': 0.3645981224972721,\n",
      "    'other': 22122,\n",
      "    'poi': True,\n",
      "    'restricted_stock': 0.5440551591529837,\n",
      "    'restricted_stock_deferred': 'NaN',\n",
      "    'salary': 1.0,\n",
      "    'shared_receipt_with_poi': 2042,\n",
      "    'to_messages': 3627,\n",
      "    'to_poi_message_ratio': 0.2777777777777778,\n",
      "    'total_payments': 0.08384122985357859,\n",
      "    'total_stock_value': 0.5317507033126446}\n"
     ]
    }
   ],
   "source": [
    "pp.pprint(my_dataset[\"SKILLING JEFFREY K\"])"
   ]
  },
  {
   "cell_type": "code",
   "execution_count": 22,
   "metadata": {
    "collapsed": true
   },
   "outputs": [],
   "source": [
    "data = featureFormat(my_dataset, features_list, sort_keys = True)\n",
    "labels, features = targetFeatureSplit(data)"
   ]
  },
  {
   "cell_type": "markdown",
   "metadata": {},
   "source": [
    "##### Feature Selection"
   ]
  },
  {
   "cell_type": "code",
   "execution_count": 23,
   "metadata": {
    "collapsed": false
   },
   "outputs": [],
   "source": [
    "from sklearn.cross_validation import train_test_split\n",
    "\n",
    "features_train, features_test, labels_train, labels_test = \\\n",
    "    train_test_split(features, labels, test_size=0.3, random_state=42)"
   ]
  },
  {
   "cell_type": "code",
   "execution_count": 24,
   "metadata": {
    "collapsed": false
   },
   "outputs": [
    {
     "name": "stdout",
     "output_type": "stream",
     "text": [
      "feature importances:  [(0.23849, 'total_stock_value'), (0.220427, 'loan_advances'), (0.168174, 'long_term_incentive'), (0.136189, 'restricted_stock_deferred'), (0.087254, 'shared_receipt_with_poi'), (0.075786, 'salary'), (0.073681, 'other'), (0.0, 'poi'), (0.0, 'deferral_payments'), (0.0, 'total_payments'), (0.0, 'bonus'), (0.0, 'deferred_income'), (0.0, 'expenses'), (0.0, 'exercised_stock_options'), (0.0, 'restricted_stock'), (0.0, 'director_fees'), (0.0, 'to_messages'), (0.0, 'from_poi_to_this_person'), (0.0, 'from_messages'), (0.0, 'from_this_person_to_poi'), (0.0, 'to_poi_message_ratio')]\n"
     ]
    }
   ],
   "source": [
    "from sklearn import tree\n",
    "from sklearn.metrics import accuracy_score\n",
    "\n",
    "clf = tree.DecisionTreeClassifier(random_state = 42)\n",
    "clf = clf.fit(features_train, labels_train)\n",
    "\n",
    "features_importance = zip(map(lambda x: round(x, 6), clf.feature_importances_), features_list)\n",
    "features_importance.sort(key = lambda t: t[0], reverse = True)\n",
    "\n",
    "print 'feature importances: ', features_importance"
   ]
  },
  {
   "cell_type": "code",
   "execution_count": 25,
   "metadata": {
    "collapsed": false
   },
   "outputs": [
    {
     "name": "stdout",
     "output_type": "stream",
     "text": [
      "['total_stock_value', 'loan_advances', 'long_term_incentive', 'restricted_stock_deferred', 'shared_receipt_with_poi', 'salary', 'other', 'poi', 'deferral_payments', 'total_payments', 'bonus', 'deferred_income', 'expenses', 'exercised_stock_options', 'restricted_stock', 'director_fees', 'to_messages', 'from_poi_to_this_person', 'from_messages', 'from_this_person_to_poi', 'to_poi_message_ratio']\n"
     ]
    }
   ],
   "source": [
    "n_most = features_importance[0:22] # all points with feature importance > 0.0\n",
    "\n",
    "selected_features = [x[1] for x in n_most]\n",
    "print selected_features"
   ]
  },
  {
   "cell_type": "markdown",
   "metadata": {},
   "source": [
    "### Task 4: Pick and Tune an Algorithm"
   ]
  },
  {
   "cell_type": "markdown",
   "metadata": {},
   "source": [
    "#### Question 3:\n",
    "\n",
    "**What algorithm did you end up using? What other one(s) did you try? How did model performance differ between algorithms?  [relevant rubric item: “pick an algorithm”]**"
   ]
  },
  {
   "cell_type": "markdown",
   "metadata": {},
   "source": [
    "TBD"
   ]
  },
  {
   "cell_type": "code",
   "execution_count": 26,
   "metadata": {
    "collapsed": false
   },
   "outputs": [],
   "source": [
    "from sklearn.cross_validation import train_test_split\n",
    "\n",
    "features_train, features_test, labels_train, labels_test = \\\n",
    "    train_test_split(features, labels, test_size=0.3, random_state=42)"
   ]
  },
  {
   "cell_type": "code",
   "execution_count": 80,
   "metadata": {
    "collapsed": false
   },
   "outputs": [
    {
     "name": "stdout",
     "output_type": "stream",
     "text": [
      "training time: 0.002 s\n",
      "predicting time: 0.001 s\n",
      "accuracy of Naive Bayes: 0.909090909091\n",
      "\n",
      "\n",
      "GaussianNB()\n",
      "\tAccuracy: 0.75613\tPrecision: 0.14603\tRecall: 0.17100\tF1: 0.15753\tF2: 0.16535\n",
      "\tTotal predictions: 15000\tTrue positives:  342\tFalse positives: 2000\tFalse negatives: 1658\tTrue negatives: 11000\n",
      "\n"
     ]
    }
   ],
   "source": [
    "### Task 4: Try a varity of classifiers\n",
    "### Please name your classifier clf for easy export below.\n",
    "### Note that if you want to do PCA or other multi-stage operations,\n",
    "### you'll need to use Pipelines. For more info:\n",
    "### http://scikit-learn.org/stable/modules/pipeline.html\n",
    "\n",
    "\n",
    "# Provided to give you a starting point. Try a variety of classifiers.\n",
    "\n",
    "# Gaussian Naive Bayes\n",
    "from sklearn.naive_bayes import GaussianNB\n",
    "from sklearn.metrics import accuracy_score\n",
    "from time import time\n",
    "\n",
    "clf_GNB = GaussianNB()\n",
    "\n",
    "t0_GNB = time()\n",
    "clf_GNB.fit(features_train, labels_train)\n",
    "print \"training time:\", round(time()-t0_GNB, 3), \"s\"\n",
    "\n",
    "t1_GNB = time()\n",
    "pred_GNB = clf_GNB.predict(features_test)\n",
    "print \"predicting time:\", round(time()-t1_GNB, 3), \"s\"\n",
    "\n",
    "accuracy_GNB = accuracy_score(labels_test, pred_GNB)\n",
    "print 'accuracy of Naive Bayes: ' + str(accuracy_GNB)\n",
    "print '\\n'\n",
    "test_classifier(clf_GNB, my_dataset, features_list, folds = 1000)"
   ]
  },
  {
   "cell_type": "code",
   "execution_count": 83,
   "metadata": {
    "collapsed": false
   },
   "outputs": [
    {
     "name": "stdout",
     "output_type": "stream",
     "text": [
      "training time: 0.001 s\n",
      "predicting time: 0.0 s\n",
      "accuracy of Decision Tree: 0.818181818182\n",
      "\n",
      "\n",
      "DecisionTreeClassifier(class_weight=None, criterion='gini', max_depth=None,\n",
      "            max_features=None, max_leaf_nodes=None, min_samples_leaf=1,\n",
      "            min_samples_split=2, min_weight_fraction_leaf=0.0,\n",
      "            presort=False, random_state=42, splitter='best')\n",
      "\tAccuracy: 0.81753\tPrecision: 0.31073\tRecall: 0.30250\tF1: 0.30656\tF2: 0.30411\n",
      "\tTotal predictions: 15000\tTrue positives:  605\tFalse positives: 1342\tFalse negatives: 1395\tTrue negatives: 11658\n",
      "\n"
     ]
    }
   ],
   "source": [
    "# Decision Tree\n",
    "\n",
    "from sklearn import tree\n",
    "\n",
    "clf_tree = tree.DecisionTreeClassifier(random_state=42)\n",
    "\n",
    "t0_tree = time()\n",
    "clf_tree.fit(features_train, labels_train)\n",
    "print \"training time:\", round(time()-t0_tree, 3), \"s\"\n",
    "\n",
    "t1_tree = time()\n",
    "pred_tree = clf_tree.predict(features_test)\n",
    "print \"predicting time:\", round(time()-t1_tree, 3), \"s\"\n",
    "\n",
    "accuracy_tree = accuracy_score(labels_test, pred_tree)\n",
    "print 'accuracy of Decision Tree: ' + str(accuracy_tree)\n",
    "print '\\n'\n",
    "test_classifier(clf_tree, my_dataset, features_list, folds = 1000)"
   ]
  },
  {
   "cell_type": "code",
   "execution_count": 81,
   "metadata": {
    "collapsed": false
   },
   "outputs": [
    {
     "name": "stdout",
     "output_type": "stream",
     "text": [
      "training time: 0.112 s\n",
      "predicting time: 0.004 s\n",
      "accuracy of Ada Boost: 0.75\n",
      "\n",
      "\n",
      "AdaBoostClassifier(algorithm='SAMME.R', base_estimator=None,\n",
      "          learning_rate=1.0, n_estimators=50, random_state=42)\n",
      "\tAccuracy: 0.84380\tPrecision: 0.38635\tRecall: 0.29150\tF1: 0.33229\tF2: 0.30655\n",
      "\tTotal predictions: 15000\tTrue positives:  583\tFalse positives:  926\tFalse negatives: 1417\tTrue negatives: 12074\n",
      "\n"
     ]
    }
   ],
   "source": [
    "# Ada Boost\n",
    "from sklearn.ensemble import AdaBoostClassifier\n",
    "\n",
    "clf_Ada = AdaBoostClassifier(random_state=42)\n",
    "\n",
    "t0_Ada = time()\n",
    "clf_Ada.fit(features_train, labels_train)\n",
    "print \"training time:\", round(time()-t0_Ada, 3), \"s\"\n",
    "\n",
    "t1_Ada = time()\n",
    "pred_Ada = clf_Ada.predict(features_test)\n",
    "print \"predicting time:\", round(time()-t1_Ada, 3), \"s\"\n",
    "\n",
    "accuracy_Ada = accuracy_score(labels_test, pred_Ada)\n",
    "print 'accuracy of Ada Boost: ' + str(accuracy_Ada)\n",
    "print '\\n'\n",
    "test_classifier(clf_Ada, my_dataset, features_list, folds = 1000)"
   ]
  },
  {
   "cell_type": "code",
   "execution_count": 87,
   "metadata": {
    "collapsed": false
   },
   "outputs": [
    {
     "name": "stdout",
     "output_type": "stream",
     "text": [
      "\n",
      "\n",
      "Got a divide by zero when trying out: Pipeline(steps=[('reduce_dim', PCA(copy=True, n_components=None, whiten=False)), ('svm', SVC(C=1.0, cache_size=200, class_weight=None, coef0=0.0,\n",
      "  decision_function_shape=None, degree=3, gamma='auto', kernel='rbf',\n",
      "  max_iter=-1, probability=False, random_state=42, shrinking=True,\n",
      "  tol=0.001, verbose=False))])\n",
      "Precision or recall may be undefined due to a lack of true positive predicitons.\n"
     ]
    }
   ],
   "source": [
    "# pipeline -- PCA\n",
    "from sklearn.pipeline import Pipeline\n",
    "from sklearn.svm import SVC\n",
    "from sklearn.decomposition import PCA\n",
    "\n",
    "estimators = [('reduce_dim', PCA()), ('svm', SVC(random_state=42))]\n",
    "clf_pipe = Pipeline(estimators)\n",
    "\n",
    "t0_pipe = time()\n",
    "clf_pipe.fit(features_train, labels_train)\n",
    "print \"training time:\", round(time()-t0_pipe, 3), \"s\"\n",
    "\n",
    "t1_pipe = time()\n",
    "pred_pipe = clf_pipe.predict(features_test)\n",
    "print \"predicting time:\", round(time()-t1_pipe, 3), \"s\"\n",
    "\n",
    "accuracy_pipe = accuracy_score(labels_test, pred_pipe)\n",
    "print 'accuracy of pipeline: ' + str(accuracy_pipe)\n",
    "\n",
    "print '\\n'\n",
    "test_classifier(clf_pipe, my_dataset, features_list, folds = 1000)"
   ]
  },
  {
   "cell_type": "markdown",
   "metadata": {},
   "source": [
    "### Task 5"
   ]
  },
  {
   "cell_type": "markdown",
   "metadata": {},
   "source": [
    "#### Question 4:\n",
    "\n",
    "**What does it mean to tune the parameters of an algorithm, and what can happen if you don’t do this well?  How did you tune the parameters of your particular algorithm? (Some algorithms do not have parameters that you need to tune -- if this is the case for the one you picked, identify and briefly explain how you would have done it for the model that was not your final choice or a different model that does utilize param**"
   ]
  },
  {
   "cell_type": "code",
   "execution_count": 65,
   "metadata": {
    "collapsed": false
   },
   "outputs": [
    {
     "data": {
      "text/plain": [
       "['presort',\n",
       " 'splitter',\n",
       " 'max_leaf_nodes',\n",
       " 'min_samples_leaf',\n",
       " 'min_samples_split',\n",
       " 'min_weight_fraction_leaf',\n",
       " 'criterion',\n",
       " 'random_state',\n",
       " 'max_features',\n",
       " 'max_depth',\n",
       " 'class_weight']"
      ]
     },
     "execution_count": 65,
     "metadata": {},
     "output_type": "execute_result"
    }
   ],
   "source": [
    "tree.DecisionTreeClassifier().get_params().keys()"
   ]
  },
  {
   "cell_type": "code",
   "execution_count": 91,
   "metadata": {
    "collapsed": false
   },
   "outputs": [
    {
     "name": "stdout",
     "output_type": "stream",
     "text": [
      "training time: 0.001 s\n",
      "predicting time: 0.001 s\n",
      "accuracy of tuned Decision Tree model: 0.909090909091\n",
      "\n",
      "\n",
      "GridSearchCV(cv=StratifiedShuffleSplit(labels=[ 0.  0. ...,  0.  0.], n_iter=10, test_size=0.333, random_state=42),\n",
      "       error_score='raise',\n",
      "       estimator=DecisionTreeClassifier(class_weight=None, criterion='gini', max_depth=None,\n",
      "            max_features=None, max_leaf_nodes=None, min_samples_leaf=1,\n",
      "            min_samples_split=2, min_weight_fraction_leaf=0.0,\n",
      "            presort=False, random_state=None, splitter='best'),\n",
      "       fit_params={}, iid=True, n_jobs=1,\n",
      "       param_grid={'max_depth': [1, 2, 3, 4, 5]}, pre_dispatch='2*n_jobs',\n",
      "       refit=True, scoring=None, verbose=0)\n",
      "\tAccuracy: 0.83780\tPrecision: 0.20464\tRecall: 0.07500\tF1: 0.10977\tF2: 0.08588\n",
      "\tTotal predictions: 15000\tTrue positives:  150\tFalse positives:  583\tFalse negatives: 1850\tTrue negatives: 12417\n",
      "\n"
     ]
    }
   ],
   "source": [
    "### Task 5: Tune your classifier to achieve better than .3 precision and recall\n",
    "### using our testing script. Check the tester.py script in the final project\n",
    "### folder for details on the evaluation method, especially the test_classifier\n",
    "### function. Because of the small size of the dataset, the script uses\n",
    "### stratified shuffle split cross validation. For more info:\n",
    "### http://scikit-learn.org/stable/modules/generated/sklearn.cross_validation.StratifiedShuffleSplit.html\n",
    "\n",
    "from tester import test_classifier\n",
    "from sklearn.cross_validation import StratifiedShuffleSplit\n",
    "from sklearn import grid_search\n",
    "from sklearn.metrics import make_scorer\n",
    "\n",
    "cv_sets = StratifiedShuffleSplit(labels_train, n_iter = 10, test_size = 0.333, random_state = 42)\n",
    "parameters = {'max_depth':[1,2,3,4,5]} \n",
    "scoring_fnc = make_scorer( test_classifier )\n",
    "regressor = tree.DecisionTreeClassifier()\n",
    "\n",
    "grid = grid_search.GridSearchCV(regressor, parameters, cv=cv_sets)\n",
    "\n",
    "\n",
    "t0 = time()\n",
    "clf = clf.fit(features_train, labels_train)\n",
    "print \"training time:\", round(time()-t0, 3), \"s\"\n",
    "\n",
    "t1 = time()\n",
    "pred = clf.predict(features_test)\n",
    "print \"predicting time:\", round(time()-t1, 3), \"s\"\n",
    "\n",
    "accuracy = accuracy_score(labels_test, pred)\n",
    "print 'accuracy of tuned Decision Tree model: ' + str(accuracy)\n",
    "\n",
    "print '\\n'\n",
    "test_classifier(grid, my_dataset, features_list, folds = 1000)"
   ]
  },
  {
   "cell_type": "markdown",
   "metadata": {},
   "source": [
    "#### Question 5:\n",
    "\n",
    "**What is validation, and what’s a classic mistake you can make if you do it wrong? How did you validate your analysis?  [relevant rubric item: “validation strategy”]**"
   ]
  },
  {
   "cell_type": "code",
   "execution_count": null,
   "metadata": {
    "collapsed": false
   },
   "outputs": [],
   "source": [
    "from tester import test_classifier\n",
    "from sklearn.cross_validation import StratifiedShuffleSplit\n",
    "from sklearn.tree import DecisionTreeRegressor\n",
    "from sklearn import grid_search\n",
    "\n",
    "cv_sets = StratifiedShuffleSplit(labels, n_iter = 10, test_size = 0.20, random_state = 42)\n",
    "regressor = DecisionTreeRegressor(random_state = 42)\n",
    "params = {'max_depth':[1,2,3,4,5,6,7,8,9,10]} \n",
    "\n",
    "grid = grid_search.GridSearchCV(regressor, param_grid=params, cv=cv_sets)\n",
    "\n",
    "#grid = grid.fit(features, labels)\n",
    "\n",
    "test_classifier(grid, my_dataset, features_list, folds = 1000)"
   ]
  },
  {
   "cell_type": "code",
   "execution_count": null,
   "metadata": {
    "collapsed": true
   },
   "outputs": [],
   "source": [
    "from sklearn import grid_search\n",
    "from sklearn.metrics import make_scorer, f1_score\n",
    "from sklearn import cross_validation\n",
    "\n",
    "\n",
    "parameters = {'kernel':['linear', 'rbf'], 'C':[1,2,3], 'gamma':[0.0]}\n",
    "\n",
    "# our chosen classifier\n",
    "clf = svm.SVC(random_state = 42)\n",
    "\n",
    "f1_scorer = make_scorer(f1_score, pos_label='yes')\n",
    "grid_obj = grid_search.GridSearchCV(clf, parameters, scoring=f1_scorer)\n",
    "\n",
    "grid_obj = grid_obj.fit(features_train, labels_train)\n",
    "clf = grid_obj.best_estimator_\n",
    "\n",
    "# final F1 score for training and testing after parameter tuning\n",
    "print \"Tuned model has a training F1 score of {:.4f}.\".format(predict_labels(clf, features_train, labels_train))\n",
    "print \"Tuned model has a testing F1 score of {:.4f}.\".format(predict_labels(clf, features_test, labels_test))"
   ]
  },
  {
   "cell_type": "markdown",
   "metadata": {},
   "source": [
    "#### Question 6:\n",
    "\n",
    "**Give at least 2 evaluation metrics and your average performance for each of them.  Explain an interpretation of your metrics that says something human-understandable about your algorithm’s performance. [relevant rubric item: “usage of evaluation metrics”]**"
   ]
  },
  {
   "cell_type": "markdown",
   "metadata": {},
   "source": [
    "### Task 6"
   ]
  },
  {
   "cell_type": "code",
   "execution_count": null,
   "metadata": {
    "collapsed": true
   },
   "outputs": [],
   "source": [
    "### Task 6: Dump your classifier, dataset, and features_list so anyone can\n",
    "### check your results. You do not need to change anything below, but make sure\n",
    "### that the version of poi_id.py that you submit can be run on its own and\n",
    "### generates the necessary .pkl files for validating your results.\n",
    "\n",
    "dump_classifier_and_data(clf, my_dataset, features_list)"
   ]
  }
 ],
 "metadata": {
  "anaconda-cloud": {},
  "kernelspec": {
   "display_name": "Python 2",
   "language": "python",
   "name": "python2"
  },
  "language_info": {
   "codemirror_mode": {
    "name": "ipython",
    "version": 2
   },
   "file_extension": ".py",
   "mimetype": "text/x-python",
   "name": "python",
   "nbconvert_exporter": "python",
   "pygments_lexer": "ipython2",
   "version": "2.7.11"
  }
 },
 "nbformat": 4,
 "nbformat_minor": 0
}
