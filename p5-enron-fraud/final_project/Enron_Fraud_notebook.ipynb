{
 "cells": [
  {
   "cell_type": "code",
   "execution_count": 1,
   "metadata": {
    "collapsed": true
   },
   "outputs": [],
   "source": [
    "#!/usr/bin/python\n",
    "import sys\n",
    "import pickle\n",
    "sys.path.append(\"../tools/\")"
   ]
  },
  {
   "cell_type": "code",
   "execution_count": 2,
   "metadata": {
    "collapsed": true
   },
   "outputs": [],
   "source": [
    "import numpy as np\n",
    "import pandas as pd\n",
    "from collections import Counter\n",
    "import pprint\n",
    "\n",
    "# ref: https://github.com/Corvids/ud120-projects (includes all module 5 starter code)\n",
    "from feature_format import featureFormat, targetFeatureSplit\n",
    "from tester import dump_classifier_and_data"
   ]
  },
  {
   "cell_type": "markdown",
   "metadata": {},
   "source": [
    "### Task 1: Load the Dataset and Initial Features"
   ]
  },
  {
   "cell_type": "markdown",
   "metadata": {},
   "source": [
    "#### Question 1:\n",
    "\n",
    "**Summarize for us the goal of this project and how machine learning is useful in trying to accomplish it. As part of your answer, give some background on the dataset and how it can be used to answer the project question. Were there any outliers in the data when you got it, and how did you handle those?  [relevant rubric items: “data exploration”, “outlier investigation”]**"
   ]
  },
  {
   "cell_type": "markdown",
   "metadata": {},
   "source": [
    "The goal of this project is to identify Enron Employees who may have committed fraud based on the available financial and email dataset using machine learning.\n",
    "\n",
    "A major outlier in the dataset was the \"Total\" data point, which was removed, as seen in the following code."
   ]
  },
  {
   "cell_type": "code",
   "execution_count": 3,
   "metadata": {
    "collapsed": true
   },
   "outputs": [],
   "source": [
    "### Task 1: Select what features you'll use.\n",
    "### features_list is a list of strings, each of which is a feature name.\n",
    "### The first feature must be \"poi\".\n",
    "features_list = ['poi', 'salary', 'deferral_payments', 'total_payments',\n",
    "                 'loan_advances', 'bonus', 'restricted_stock_deferred',\n",
    "                 'deferred_income', 'total_stock_value', 'expenses',\n",
    "                 'exercised_stock_options', 'other', 'long_term_incentive',\n",
    "                 'restricted_stock', 'director_fees',\n",
    "                 'to_messages', 'from_poi_to_this_person',\n",
    "                 'from_messages', 'from_this_person_to_poi', 'shared_receipt_with_poi']"
   ]
  },
  {
   "cell_type": "markdown",
   "metadata": {},
   "source": [
    "### Task 2: Understanding the Dataset and Question"
   ]
  },
  {
   "cell_type": "code",
   "execution_count": 4,
   "metadata": {
    "collapsed": false
   },
   "outputs": [
    {
     "name": "stdout",
     "output_type": "stream",
     "text": [
      "data loaded!\n",
      "Number of initial data points:  146\n",
      "Number of initial features used:  20\n"
     ]
    }
   ],
   "source": [
    "### Load the dictionary containing the dataset\n",
    "with open(\"final_project_dataset.pkl\", \"r\") as data_file:\n",
    "    data_dict = pickle.load(data_file)\n",
    "\n",
    "if len(data_dict) > 0:\n",
    "    print 'data loaded!'\n",
    "    print 'Number of initial data points: ', len(data_dict)\n",
    "    print 'Number of initial features used: ', len(features_list)"
   ]
  },
  {
   "cell_type": "code",
   "execution_count": null,
   "metadata": {
    "collapsed": false
   },
   "outputs": [],
   "source": [
    "# get number of POI in data\n",
    "poi_count = []\n",
    "for key in data_dict.keys():\n",
    "    poi_count.append(data_dict[key]['poi'])\n",
    "\n",
    "print 'Number of POI: ', poi_count.count(1)\n",
    "print 'Number of non-POI: ', poi_count.count(0)"
   ]
  },
  {
   "cell_type": "code",
   "execution_count": null,
   "metadata": {
    "collapsed": false
   },
   "outputs": [],
   "source": [
    "print 'list of all people in the dataset: '\n",
    "print data_dict.keys()"
   ]
  },
  {
   "cell_type": "code",
   "execution_count": null,
   "metadata": {
    "collapsed": true
   },
   "outputs": [],
   "source": [
    "# get number of missing values per person\n",
    "missing_feature = [0 for i in range(0, len(features_list))]\n",
    "features_in_data = data_dict.values()\n",
    "\n",
    "for loc_p, person in enumerate(features_in_data):\n",
    "    for loc_f, feature in enumerate(features_list):\n",
    "        if person[feature] == 'NaN':\n",
    "            missing_feature[loc_f] += 1"
   ]
  },
  {
   "cell_type": "code",
   "execution_count": null,
   "metadata": {
    "collapsed": false
   },
   "outputs": [],
   "source": [
    "print 'Number of missing from each feature: '\n",
    "for feature, num_missing in zip(features_list, missing_feature):\n",
    "    print feature, ' -- ', num_missing"
   ]
  },
  {
   "cell_type": "code",
   "execution_count": null,
   "metadata": {
    "collapsed": false
   },
   "outputs": [],
   "source": [
    "# print structure\n",
    "pp = pprint.PrettyPrinter(indent=4)\n",
    "pp.pprint(data_dict[\"SKILLING JEFFREY K\"])"
   ]
  },
  {
   "cell_type": "markdown",
   "metadata": {},
   "source": [
    "##### Removing the outlier"
   ]
  },
  {
   "cell_type": "code",
   "execution_count": null,
   "metadata": {
    "collapsed": false
   },
   "outputs": [],
   "source": [
    "import matplotlib.pyplot\n",
    "\n",
    "%matplotlib inline\n",
    "\n",
    "features = [\"salary\", \"bonus\"]\n",
    "data = featureFormat(data_dict, features)"
   ]
  },
  {
   "cell_type": "code",
   "execution_count": null,
   "metadata": {
    "collapsed": false
   },
   "outputs": [],
   "source": [
    "for point in data:\n",
    "    salary = point[0]\n",
    "    bonus = point[1]\n",
    "    matplotlib.pyplot.scatter( salary, bonus )\n",
    "\n",
    "matplotlib.pyplot.xlabel(\"salary\")\n",
    "matplotlib.pyplot.ylabel(\"bonus\")\n",
    "matplotlib.pyplot.show()"
   ]
  },
  {
   "cell_type": "code",
   "execution_count": null,
   "metadata": {
    "collapsed": false
   },
   "outputs": [],
   "source": [
    "### Task 2: Remove outliers\n",
    "##following outlier cleaner adapted\n",
    "## from outliers mini-project\n",
    "\n",
    "# remove total -- top right point separate from bottom left cluster\n",
    "print 'Now removing outliers . . . '\n",
    "print 'Removing point named \"Total\" from data...'\n",
    "data_dict.pop('TOTAL')\n",
    "print 'Number of data points after removal: ', len(data_dict)"
   ]
  },
  {
   "cell_type": "code",
   "execution_count": null,
   "metadata": {
    "collapsed": false
   },
   "outputs": [],
   "source": [
    "data = featureFormat(data_dict, features)\n",
    "\n",
    "for point in data:\n",
    "    salary = point[0]\n",
    "    bonus = point[1]\n",
    "    matplotlib.pyplot.scatter( salary, bonus )\n",
    "\n",
    "matplotlib.pyplot.xlabel(\"salary\")\n",
    "matplotlib.pyplot.ylabel(\"bonus\")\n",
    "matplotlib.pyplot.show()"
   ]
  },
  {
   "cell_type": "markdown",
   "metadata": {},
   "source": [
    "### Task 3: Optimize Feature Selection/Engineering"
   ]
  },
  {
   "cell_type": "markdown",
   "metadata": {},
   "source": [
    "#### Question 2:\n",
    "\n",
    "**What features did you end up using in your POI identifier, and what selection process did you use to pick them? Did you have to do any scaling? Why or why not? As part of the assignment, you should attempt to engineer your own feature that does not come ready-made in the dataset -- explain what feature you tried to make, and the rationale behind it. (You do not necessarily have to use it in the final analysis, only engineer and test it.) In your feature selection step, if you used an algorithm like a decision tree, please also give the feature importances of the features that you use, and if you used an automated feature selection function like SelectKBest, please report the feature scores and reasons for your choice of parameter values.  [relevant rubric items: “create new features”, “properly scale features”, “intelligently select feature”]**"
   ]
  },
  {
   "cell_type": "markdown",
   "metadata": {},
   "source": [
    "TBD"
   ]
  },
  {
   "cell_type": "code",
   "execution_count": null,
   "metadata": {
    "collapsed": false
   },
   "outputs": [],
   "source": [
    "### Task 3: Create new feature(s)\n",
    "\n",
    "### Store to my_dataset for easy export below.\n",
    "my_dataset = data_dict\n",
    "\n",
    "### Extract features and labels from dataset for local testing\n",
    "data = featureFormat(my_dataset, features_list, sort_keys = True)\n",
    "labels, features = targetFeatureSplit(data)"
   ]
  },
  {
   "cell_type": "code",
   "execution_count": null,
   "metadata": {
    "collapsed": false
   },
   "outputs": [],
   "source": [
    "for key in my_dataset:\n",
    "    #messages to POI\n",
    "    if my_dataset[key]['from_messages'] != 'NaN':\n",
    "        my_dataset[key]['to_poi_message_ratio'] = \\\n",
    "                1.0*my_dataset[key]['from_this_person_to_poi']/my_dataset[key]['from_messages']\n",
    "    else:\n",
    "        my_dataset[key]['to_poi_message_ratio'] = 'NaN'\n",
    "    #messages from POI\n",
    "    if my_dataset[key]['to_messages'] != 'NaN':\n",
    "        my_dataset[key]['from_poi_message_ratio'] = \\\n",
    "                1.0*my_dataset[key]['from_poi_to_this_person']/my_dataset[key]['to_messages']\n",
    "    else:\n",
    "        my_dataset[key]['from_poi_message_ratio'] = 'NaN'"
   ]
  },
  {
   "cell_type": "code",
   "execution_count": null,
   "metadata": {
    "collapsed": false
   },
   "outputs": [],
   "source": [
    "# update the feature list\n",
    "features_list = ['poi', 'salary', 'deferral_payments', 'total_payments',\n",
    "                 'loan_advances', 'bonus', 'restricted_stock_deferred',\n",
    "                 'deferred_income', 'total_stock_value', 'expenses',\n",
    "                 'exercised_stock_options', 'other', 'long_term_incentive',\n",
    "                 'restricted_stock', 'director_fees',\n",
    "                 'to_messages', 'from_poi_to_this_person',\n",
    "                 'from_messages', 'from_this_person_to_poi',\n",
    "                 'shared_receipt_with_poi',\n",
    "                 'to_poi_message_ratio', 'from_poi_message_ratio']\n"
   ]
  },
  {
   "cell_type": "code",
   "execution_count": null,
   "metadata": {
    "collapsed": false
   },
   "outputs": [],
   "source": [
    "pp.pprint(my_dataset[\"SKILLING JEFFREY K\"])"
   ]
  },
  {
   "cell_type": "code",
   "execution_count": null,
   "metadata": {
    "collapsed": false
   },
   "outputs": [],
   "source": [
    "if len(data_dict) > 0:\n",
    "    print 'After adding two new features: to_poi_message_ratio, from_poi_message_ratio'\n",
    "    print 'Number of initial data points: ', len(my_dataset)\n",
    "    print 'Number of initial features used: ', len(features_list)"
   ]
  },
  {
   "cell_type": "markdown",
   "metadata": {},
   "source": [
    "##### Scaling our features"
   ]
  },
  {
   "cell_type": "code",
   "execution_count": null,
   "metadata": {
    "collapsed": false
   },
   "outputs": [],
   "source": [
    "def scaleFeatures(my_dataset, feature):\n",
    "    min_scale = np.inf\n",
    "    max_scale = -np.inf\n",
    "    \n",
    "    for key in my_dataset:\n",
    "        # get min, max\n",
    "        if my_dataset[key][feature] == 'NaN':\n",
    "            pass\n",
    "        else:\n",
    "            if my_dataset[key][feature] < min_scale:\n",
    "                min_scale = my_dataset[key][feature]\n",
    "            if my_dataset[key][feature] > max_scale:\n",
    "                max_scale =  my_dataset[key][feature]\n",
    "    \n",
    "    print 'min ' + str(feature) + ' is: ' + str(min_scale)\n",
    "    print 'max ' + str(feature) + ' is: ' + str(max_scale)\n",
    "    \n",
    "    for key in my_dataset:\n",
    "        if my_dataset[key][feature] == 'NaN':\n",
    "            pass\n",
    "        else:\n",
    "            my_dataset[key][feature] = 1.0*(my_dataset[key][feature] - min_scale) / (max_scale - min_scale)\n",
    "    \n",
    "    print 'scaled feature ' + str(feature) + '!'\n",
    "    print '=========='"
   ]
  },
  {
   "cell_type": "code",
   "execution_count": null,
   "metadata": {
    "collapsed": false
   },
   "outputs": [],
   "source": [
    "features_to_scale = ['bonus', 'salary', 'restricted_stock',\n",
    "                     'long_term_incentive',\n",
    "                     'restricted_stock_deferred', 'total_payments',\n",
    "                    'total_stock_value', 'exercised_stock_options',\n",
    "                    'expenses']\n",
    "\n",
    "for feature in features_to_scale:\n",
    "    scaleFeatures(my_dataset, feature)"
   ]
  },
  {
   "cell_type": "code",
   "execution_count": null,
   "metadata": {
    "collapsed": false
   },
   "outputs": [],
   "source": [
    "pp.pprint(my_dataset[\"SKILLING JEFFREY K\"])"
   ]
  },
  {
   "cell_type": "code",
   "execution_count": null,
   "metadata": {
    "collapsed": true
   },
   "outputs": [],
   "source": [
    "data = featureFormat(my_dataset, features_list, sort_keys = True)\n",
    "labels, features = targetFeatureSplit(data)"
   ]
  },
  {
   "cell_type": "markdown",
   "metadata": {},
   "source": [
    "##### Feature Selection"
   ]
  },
  {
   "cell_type": "code",
   "execution_count": null,
   "metadata": {
    "collapsed": false
   },
   "outputs": [],
   "source": [
    "from sklearn.cross_validation import train_test_split\n",
    "\n",
    "features_train, features_test, labels_train, labels_test = \\\n",
    "    train_test_split(features, labels, test_size=0.3, random_state=42)"
   ]
  },
  {
   "cell_type": "code",
   "execution_count": null,
   "metadata": {
    "collapsed": false
   },
   "outputs": [],
   "source": [
    "from sklearn import tree\n",
    "from sklearn.metrics import accuracy_score\n",
    "\n",
    "clf = tree.DecisionTreeClassifier(random_state = 42)\n",
    "clf = clf.fit(features_train, labels_train)\n",
    "\n",
    "features_importance = zip(map(lambda x: round(x, 6), clf.feature_importances_), features_list)\n",
    "features_importance.sort(key = lambda t: t[0], reverse = True)\n",
    "\n",
    "print 'feature importances: ', features_importance"
   ]
  },
  {
   "cell_type": "code",
   "execution_count": null,
   "metadata": {
    "collapsed": false
   },
   "outputs": [],
   "source": [
    "n_most = features_importance[0:22] # all points with feature importance > 0.0\n",
    "\n",
    "selected_features = [x[1] for x in n_most]\n",
    "print selected_features"
   ]
  },
  {
   "cell_type": "code",
   "execution_count": null,
   "metadata": {
    "collapsed": true
   },
   "outputs": [],
   "source": [
    "data = featureFormat(my_dataset, selected_features, sort_keys = True)\n",
    "labels, features = targetFeatureSplit(data)"
   ]
  },
  {
   "cell_type": "markdown",
   "metadata": {},
   "source": [
    "### Task 4: Pick and Tune an Algorithm"
   ]
  },
  {
   "cell_type": "markdown",
   "metadata": {},
   "source": [
    "#### Question 3:\n",
    "\n",
    "**What algorithm did you end up using? What other one(s) did you try? How did model performance differ between algorithms?  [relevant rubric item: “pick an algorithm”]**"
   ]
  },
  {
   "cell_type": "markdown",
   "metadata": {},
   "source": [
    "TBD"
   ]
  },
  {
   "cell_type": "code",
   "execution_count": null,
   "metadata": {
    "collapsed": false
   },
   "outputs": [],
   "source": [
    "from sklearn.cross_validation import train_test_split\n",
    "\n",
    "features_train, features_test, labels_train, labels_test = \\\n",
    "    train_test_split(features, labels, test_size=0.3, random_state=42)"
   ]
  },
  {
   "cell_type": "code",
   "execution_count": null,
   "metadata": {
    "collapsed": false
   },
   "outputs": [],
   "source": [
    "### Task 4: Try a varity of classifiers\n",
    "### Please name your classifier clf for easy export below.\n",
    "### Note that if you want to do PCA or other multi-stage operations,\n",
    "### you'll need to use Pipelines. For more info:\n",
    "### http://scikit-learn.org/stable/modules/pipeline.html\n",
    "\n",
    "\n",
    "# Provided to give you a starting point. Try a variety of classifiers.\n",
    "\n",
    "# Gaussian Naive Bayes\n",
    "from sklearn.naive_bayes import GaussianNB\n",
    "from sklearn.metrics import accuracy_score\n",
    "from time import time\n",
    "\n",
    "clf_GNB = GaussianNB()\n",
    "\n",
    "t0_GNB = time()\n",
    "clf_GNB.fit(features_train, labels_train)\n",
    "print \"training time:\", round(time()-t0_GNB, 3), \"s\"\n",
    "\n",
    "t1_GNB = time()\n",
    "pred_GNB = clf_GNB.predict(features_test)\n",
    "print \"predicting time:\", round(time()-t1_GNB, 3), \"s\"\n",
    "\n",
    "accuracy_GNB = accuracy_score(labels_test, pred_GNB)\n",
    "print 'accuracy of Naive Bayes: ' + str(accuracy_GNB)"
   ]
  },
  {
   "cell_type": "code",
   "execution_count": null,
   "metadata": {
    "collapsed": false
   },
   "outputs": [],
   "source": [
    "# Decision Tree\n",
    "\n",
    "from sklearn import tree\n",
    "\n",
    "clf_tree = tree.DecisionTreeClassifier(min_samples_split=20)\n",
    "\n",
    "t0_tree = time()\n",
    "clf_tree.fit(features_train, labels_train)\n",
    "print \"training time:\", round(time()-t0_tree, 3), \"s\"\n",
    "\n",
    "t1_tree = time()\n",
    "pred_tree = clf_tree.predict(features_test)\n",
    "print \"predicting time:\", round(time()-t1_tree, 3), \"s\"\n",
    "\n",
    "accuracy_tree = accuracy_score(labels_test, pred_tree)\n",
    "print 'accuracy of Decision Tree: ' + str(accuracy_tree)"
   ]
  },
  {
   "cell_type": "code",
   "execution_count": null,
   "metadata": {
    "collapsed": false
   },
   "outputs": [],
   "source": [
    "# Ada Boost\n",
    "from sklearn.ensemble import AdaBoostClassifier\n",
    "\n",
    "clf_Ada = AdaBoostClassifier(n_estimators=5, learning_rate=0.15, random_state=42)\n",
    "\n",
    "t0_Ada = time()\n",
    "clf_Ada.fit(features_train, labels_train)\n",
    "print \"training time:\", round(time()-t0_Ada, 3), \"s\"\n",
    "\n",
    "t1_Ada = time()\n",
    "pred_Ada = clf_Ada.predict(features_test)\n",
    "print \"predicting time:\", round(time()-t1_Ada, 3), \"s\"\n",
    "\n",
    "accuracy_Ada = accuracy_score(labels_test, pred_Ada)\n",
    "print 'accuracy of Ada Boost: ' + str(accuracy_Ada)"
   ]
  },
  {
   "cell_type": "code",
   "execution_count": null,
   "metadata": {
    "collapsed": false
   },
   "outputs": [],
   "source": [
    "# SVM\n",
    "from sklearn import svm\n",
    "\n",
    "clf_SVM = svm.SVC(random_state = 42)\n",
    "\n",
    "t0_SVM = time()\n",
    "clf_SVM.fit(features_train, labels_train)\n",
    "print \"training time:\", round(time()-t0_SVM, 3), \"s\"\n",
    "\n",
    "t1_SVM = time()\n",
    "pred_SVM = clf_SVM.predict(features_test)\n",
    "print \"predicting time:\", round(time()-t1_SVM, 3), \"s\"\n",
    "\n",
    "accuracy_SVM = accuracy_score(labels_test, pred_SVM)\n",
    "print 'accuracy of SVM: ' + str(accuracy_SVM)"
   ]
  },
  {
   "cell_type": "markdown",
   "metadata": {},
   "source": [
    "### Task 5"
   ]
  },
  {
   "cell_type": "markdown",
   "metadata": {},
   "source": [
    "#### Question 4:\n",
    "\n",
    "**What does it mean to tune the parameters of an algorithm, and what can happen if you don’t do this well?  How did you tune the parameters of your particular algorithm? (Some algorithms do not have parameters that you need to tune -- if this is the case for the one you picked, identify and briefly explain how you would have done it for the model that was not your final choice or a different model that does utilize param**"
   ]
  },
  {
   "cell_type": "markdown",
   "metadata": {},
   "source": [
    "#### Question 5:\n",
    "\n",
    "**What is validation, and what’s a classic mistake you can make if you do it wrong? How did you validate your analysis?  [relevant rubric item: “validation strategy”]**"
   ]
  },
  {
   "cell_type": "markdown",
   "metadata": {},
   "source": [
    "#### Question 6:\n",
    "\n",
    "**Give at least 2 evaluation metrics and your average performance for each of them.  Explain an interpretation of your metrics that says something human-understandable about your algorithm’s performance. [relevant rubric item: “usage of evaluation metrics”]**"
   ]
  },
  {
   "cell_type": "code",
   "execution_count": null,
   "metadata": {
    "collapsed": false
   },
   "outputs": [],
   "source": [
    "### Task 5: Tune your classifier to achieve better than .3 precision and recall\n",
    "### using our testing script. Check the tester.py script in the final project\n",
    "### folder for details on the evaluation method, especially the test_classifier\n",
    "### function. Because of the small size of the dataset, the script uses\n",
    "### stratified shuffle split cross validation. For more info:\n",
    "### http://scikit-learn.org/stable/modules/generated/sklearn.cross_validation.StratifiedShuffleSplit.html\n",
    "\n",
    "# Example starting point. Try investigating other evaluation techniques!\n",
    "from tester import test_classifier\n",
    "from sklearn.cross_validation import StratifiedShuffleSplit\n",
    "from sklearn.tree import DecisionTreeRegressor\n",
    "from sklearn import grid_search\n",
    "\n",
    "cv_sets = StratifiedShuffleSplit(labels, n_iter = 10, test_size = 0.20, random_state = 42)\n",
    "regressor = DecisionTreeRegressor(random_state = 42)\n",
    "params = {'max_depth':[1,2,3,4,5,6,7,8,9,10]} \n",
    "\n",
    "grid = grid_search.GridSearchCV(regressor, param_grid=params, cv=cv_sets)\n",
    "\n",
    "#grid = grid.fit(features, labels)\n",
    "\n",
    "test_classifier(grid, my_dataset, features_list, folds = 1000)"
   ]
  },
  {
   "cell_type": "code",
   "execution_count": null,
   "metadata": {
    "collapsed": true
   },
   "outputs": [],
   "source": [
    "from sklearn import grid_search\n",
    "from sklearn.metrics import make_scorer, f1_score\n",
    "from sklearn import cross_validation\n",
    "\n",
    "\n",
    "parameters = {'kernel':['linear', 'rbf'], 'C':[1,2,3], 'gamma':[0.0]}\n",
    "\n",
    "# our chosen classifier\n",
    "clf = svm.SVC(random_state = 42)\n",
    "\n",
    "f1_scorer = make_scorer(f1_score, pos_label='yes')\n",
    "grid_obj = grid_search.GridSearchCV(clf, parameters, scoring=f1_scorer)\n",
    "\n",
    "grid_obj = grid_obj.fit(features_train, labels_train)\n",
    "clf = grid_obj.best_estimator_\n",
    "\n",
    "# final F1 score for training and testing after parameter tuning\n",
    "print \"Tuned model has a training F1 score of {:.4f}.\".format(predict_labels(clf, features_train, labels_train))\n",
    "print \"Tuned model has a testing F1 score of {:.4f}.\".format(predict_labels(clf, features_test, labels_test))"
   ]
  },
  {
   "cell_type": "markdown",
   "metadata": {},
   "source": [
    "### Task 6"
   ]
  },
  {
   "cell_type": "code",
   "execution_count": null,
   "metadata": {
    "collapsed": true
   },
   "outputs": [],
   "source": [
    "### Task 6: Dump your classifier, dataset, and features_list so anyone can\n",
    "### check your results. You do not need to change anything below, but make sure\n",
    "### that the version of poi_id.py that you submit can be run on its own and\n",
    "### generates the necessary .pkl files for validating your results.\n",
    "\n",
    "dump_classifier_and_data(clf, my_dataset, features_list)"
   ]
  }
 ],
 "metadata": {
  "anaconda-cloud": {},
  "kernelspec": {
   "display_name": "Python 2",
   "language": "python",
   "name": "python2"
  },
  "language_info": {
   "codemirror_mode": {
    "name": "ipython",
    "version": 2
   },
   "file_extension": ".py",
   "mimetype": "text/x-python",
   "name": "python",
   "nbconvert_exporter": "python",
   "pygments_lexer": "ipython2",
   "version": "2.7.11"
  }
 },
 "nbformat": 4,
 "nbformat_minor": 0
}
