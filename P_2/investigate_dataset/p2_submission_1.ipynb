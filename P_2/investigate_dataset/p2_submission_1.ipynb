{
 "cells": [
  {
   "cell_type": "code",
   "execution_count": 1,
   "metadata": {
    "collapsed": true
   },
   "outputs": [],
   "source": [
    "# importing the neceassary packages\n",
    "import pandas as pd\n",
    "import numpy as plt\n",
    "import matplotlib as mpl"
   ]
  },
  {
   "cell_type": "code",
   "execution_count": 2,
   "metadata": {
    "collapsed": false
   },
   "outputs": [],
   "source": [
    "# reading in the dataset\n",
    "df = pd.read_csv('titanic_data.csv')"
   ]
  },
  {
   "cell_type": "markdown",
   "metadata": {},
   "source": [
    "# What factors made people more likely to survive?"
   ]
  },
  {
   "cell_type": "markdown",
   "metadata": {},
   "source": [
    "Try and suggest questions that promote looking at relationships between multiple variables. You should aim to analyze at least one dependent variable and three independent variables in your investigation. Make sure you use NumPy and Pandas where they are appropriate!"
   ]
  },
  {
   "cell_type": "code",
   "execution_count": null,
   "metadata": {
    "collapsed": false
   },
   "outputs": [],
   "source": [
    "%matplotlib inline"
   ]
  },
  {
   "cell_type": "code",
   "execution_count": 5,
   "metadata": {
    "collapsed": false
   },
   "outputs": [
    {
     "data": {
      "text/html": [
       "<div>\n",
       "<table border=\"1\" class=\"dataframe\">\n",
       "  <thead>\n",
       "    <tr style=\"text-align: right;\">\n",
       "      <th></th>\n",
       "      <th>PassengerId</th>\n",
       "      <th>Survived</th>\n",
       "      <th>Pclass</th>\n",
       "      <th>Name</th>\n",
       "      <th>Sex</th>\n",
       "      <th>Age</th>\n",
       "      <th>SibSp</th>\n",
       "      <th>Parch</th>\n",
       "      <th>Ticket</th>\n",
       "      <th>Fare</th>\n",
       "      <th>Cabin</th>\n",
       "      <th>Embarked</th>\n",
       "    </tr>\n",
       "  </thead>\n",
       "  <tbody>\n",
       "    <tr>\n",
       "      <th>0</th>\n",
       "      <td>1</td>\n",
       "      <td>0</td>\n",
       "      <td>3</td>\n",
       "      <td>Braund, Mr. Owen Harris</td>\n",
       "      <td>male</td>\n",
       "      <td>22</td>\n",
       "      <td>1</td>\n",
       "      <td>0</td>\n",
       "      <td>A/5 21171</td>\n",
       "      <td>7.2500</td>\n",
       "      <td>NaN</td>\n",
       "      <td>S</td>\n",
       "    </tr>\n",
       "    <tr>\n",
       "      <th>1</th>\n",
       "      <td>2</td>\n",
       "      <td>1</td>\n",
       "      <td>1</td>\n",
       "      <td>Cumings, Mrs. John Bradley (Florence Briggs Th...</td>\n",
       "      <td>female</td>\n",
       "      <td>38</td>\n",
       "      <td>1</td>\n",
       "      <td>0</td>\n",
       "      <td>PC 17599</td>\n",
       "      <td>71.2833</td>\n",
       "      <td>C85</td>\n",
       "      <td>C</td>\n",
       "    </tr>\n",
       "    <tr>\n",
       "      <th>2</th>\n",
       "      <td>3</td>\n",
       "      <td>1</td>\n",
       "      <td>3</td>\n",
       "      <td>Heikkinen, Miss. Laina</td>\n",
       "      <td>female</td>\n",
       "      <td>26</td>\n",
       "      <td>0</td>\n",
       "      <td>0</td>\n",
       "      <td>STON/O2. 3101282</td>\n",
       "      <td>7.9250</td>\n",
       "      <td>NaN</td>\n",
       "      <td>S</td>\n",
       "    </tr>\n",
       "    <tr>\n",
       "      <th>3</th>\n",
       "      <td>4</td>\n",
       "      <td>1</td>\n",
       "      <td>1</td>\n",
       "      <td>Futrelle, Mrs. Jacques Heath (Lily May Peel)</td>\n",
       "      <td>female</td>\n",
       "      <td>35</td>\n",
       "      <td>1</td>\n",
       "      <td>0</td>\n",
       "      <td>113803</td>\n",
       "      <td>53.1000</td>\n",
       "      <td>C123</td>\n",
       "      <td>S</td>\n",
       "    </tr>\n",
       "    <tr>\n",
       "      <th>4</th>\n",
       "      <td>5</td>\n",
       "      <td>0</td>\n",
       "      <td>3</td>\n",
       "      <td>Allen, Mr. William Henry</td>\n",
       "      <td>male</td>\n",
       "      <td>35</td>\n",
       "      <td>0</td>\n",
       "      <td>0</td>\n",
       "      <td>373450</td>\n",
       "      <td>8.0500</td>\n",
       "      <td>NaN</td>\n",
       "      <td>S</td>\n",
       "    </tr>\n",
       "  </tbody>\n",
       "</table>\n",
       "</div>"
      ],
      "text/plain": [
       "   PassengerId  Survived  Pclass  \\\n",
       "0            1         0       3   \n",
       "1            2         1       1   \n",
       "2            3         1       3   \n",
       "3            4         1       1   \n",
       "4            5         0       3   \n",
       "\n",
       "                                                Name     Sex  Age  SibSp  \\\n",
       "0                            Braund, Mr. Owen Harris    male   22      1   \n",
       "1  Cumings, Mrs. John Bradley (Florence Briggs Th...  female   38      1   \n",
       "2                             Heikkinen, Miss. Laina  female   26      0   \n",
       "3       Futrelle, Mrs. Jacques Heath (Lily May Peel)  female   35      1   \n",
       "4                           Allen, Mr. William Henry    male   35      0   \n",
       "\n",
       "   Parch            Ticket     Fare Cabin Embarked  \n",
       "0      0         A/5 21171   7.2500   NaN        S  \n",
       "1      0          PC 17599  71.2833   C85        C  \n",
       "2      0  STON/O2. 3101282   7.9250   NaN        S  \n",
       "3      0            113803  53.1000  C123        S  \n",
       "4      0            373450   8.0500   NaN        S  "
      ]
     },
     "execution_count": 5,
     "metadata": {},
     "output_type": "execute_result"
    }
   ],
   "source": [
    "df.head()"
   ]
  },
  {
   "cell_type": "code",
   "execution_count": 3,
   "metadata": {
    "collapsed": false
   },
   "outputs": [
    {
     "name": "stdout",
     "output_type": "stream",
     "text": [
      "       PassengerId    Survived      Pclass         Age       SibSp  \\\n",
      "count   891.000000  891.000000  891.000000  714.000000  891.000000   \n",
      "mean    446.000000    0.383838    2.308642   29.699118    0.523008   \n",
      "std     257.353842    0.486592    0.836071   14.526497    1.102743   \n",
      "min       1.000000    0.000000    1.000000    0.420000    0.000000   \n",
      "25%     223.500000    0.000000    2.000000   20.125000    0.000000   \n",
      "50%     446.000000    0.000000    3.000000   28.000000    0.000000   \n",
      "75%     668.500000    1.000000    3.000000   38.000000    1.000000   \n",
      "max     891.000000    1.000000    3.000000   80.000000    8.000000   \n",
      "\n",
      "            Parch        Fare  \n",
      "count  891.000000  891.000000  \n",
      "mean     0.381594   32.204208  \n",
      "std      0.806057   49.693429  \n",
      "min      0.000000    0.000000  \n",
      "25%      0.000000    7.910400  \n",
      "50%      0.000000   14.454200  \n",
      "75%      0.000000   31.000000  \n",
      "max      6.000000  512.329200  \n"
     ]
    }
   ],
   "source": [
    "print df.describe()"
   ]
  },
  {
   "cell_type": "code",
   "execution_count": 4,
   "metadata": {
    "collapsed": false
   },
   "outputs": [
    {
     "name": "stdout",
     "output_type": "stream",
     "text": [
      "                            Age        Fare       Parch  PassengerId  \\\n",
      "Pclass Sex                                                             \n",
      "1      female count   85.000000   94.000000   94.000000    94.000000   \n",
      "              mean    34.611765  106.125798    0.457447   469.212766   \n",
      "              std     13.612052   74.259988    0.728305   247.476723   \n",
      "              min      2.000000   25.929200    0.000000     2.000000   \n",
      "              25%     23.000000   57.244800    0.000000   293.500000   \n",
      "              50%     35.000000   82.664550    0.000000   447.000000   \n",
      "              75%     44.000000  134.500000    1.000000   698.250000   \n",
      "              max     63.000000  512.329200    2.000000   888.000000   \n",
      "       male   count  101.000000  122.000000  122.000000   122.000000   \n",
      "              mean    41.281386   67.226127    0.278689   455.729508   \n",
      "              std     15.139570   77.548021    0.658853   247.026449   \n",
      "              min      0.920000    0.000000    0.000000     7.000000   \n",
      "              25%     30.000000   27.728100    0.000000   255.500000   \n",
      "              50%     40.000000   41.262500    0.000000   480.500000   \n",
      "              75%     51.000000   78.459375    0.000000   660.750000   \n",
      "              max     80.000000  512.329200    4.000000   890.000000   \n",
      "2      female count   74.000000   76.000000   76.000000    76.000000   \n",
      "              mean    28.722973   21.970121    0.605263   443.105263   \n",
      "              std     12.872702   10.891796    0.833930   243.627288   \n",
      "              min      2.000000   10.500000    0.000000    10.000000   \n",
      "              25%     22.250000   13.000000    0.000000   269.750000   \n",
      "              50%     28.000000   22.000000    0.000000   439.500000   \n",
      "              75%     36.000000   26.062500    1.000000   616.750000   \n",
      "              max     57.000000   65.000000    3.000000   881.000000   \n",
      "       male   count   99.000000  108.000000  108.000000   108.000000   \n",
      "              mean    30.740707   19.741782    0.222222   447.962963   \n",
      "              std     14.793894   14.922235    0.517603   256.922546   \n",
      "              min      0.670000    0.000000    0.000000    18.000000   \n",
      "              25%     23.000000   12.331250    0.000000   225.750000   \n",
      "              50%     30.000000   13.000000    0.000000   416.500000   \n",
      "              75%     36.750000   26.000000    0.000000   677.500000   \n",
      "              max     70.000000   73.500000    2.000000   887.000000   \n",
      "3      female count  102.000000  144.000000  144.000000   144.000000   \n",
      "              mean    21.750000   16.118810    0.798611   399.729167   \n",
      "              std     12.729964   11.690314    1.237976   267.232416   \n",
      "              min      0.750000    6.750000    0.000000     3.000000   \n",
      "              25%     14.125000    7.854200    0.000000   165.250000   \n",
      "              50%     21.500000   12.475000    0.000000   376.000000   \n",
      "              75%     29.750000   20.221875    1.000000   636.000000   \n",
      "              max     63.000000   69.550000    6.000000   889.000000   \n",
      "       male   count  253.000000  347.000000  347.000000   347.000000   \n",
      "              mean    26.507589   12.661633    0.224784   455.515850   \n",
      "              std     12.159514   11.681696    0.623404   261.921251   \n",
      "              min      0.420000    0.000000    0.000000     1.000000   \n",
      "              25%     20.000000    7.750000    0.000000   209.500000   \n",
      "              50%     25.000000    7.925000    0.000000   466.000000   \n",
      "              75%     33.000000   10.008300    0.000000   687.500000   \n",
      "              max     74.000000   69.550000    5.000000   891.000000   \n",
      "\n",
      "                          SibSp    Survived  \n",
      "Pclass Sex                                   \n",
      "1      female count   94.000000   94.000000  \n",
      "              mean     0.553191    0.968085  \n",
      "              std      0.665865    0.176716  \n",
      "              min      0.000000    0.000000  \n",
      "              25%      0.000000    1.000000  \n",
      "              50%      0.000000    1.000000  \n",
      "              75%      1.000000    1.000000  \n",
      "              max      3.000000    1.000000  \n",
      "       male   count  122.000000  122.000000  \n",
      "              mean     0.311475    0.368852  \n",
      "              std      0.546695    0.484484  \n",
      "              min      0.000000    0.000000  \n",
      "              25%      0.000000    0.000000  \n",
      "              50%      0.000000    0.000000  \n",
      "              75%      1.000000    1.000000  \n",
      "              max      3.000000    1.000000  \n",
      "2      female count   76.000000   76.000000  \n",
      "              mean     0.486842    0.921053  \n",
      "              std      0.642774    0.271448  \n",
      "              min      0.000000    0.000000  \n",
      "              25%      0.000000    1.000000  \n",
      "              50%      0.000000    1.000000  \n",
      "              75%      1.000000    1.000000  \n",
      "              max      3.000000    1.000000  \n",
      "       male   count  108.000000  108.000000  \n",
      "              mean     0.342593    0.157407  \n",
      "              std      0.566380    0.365882  \n",
      "              min      0.000000    0.000000  \n",
      "              25%      0.000000    0.000000  \n",
      "              50%      0.000000    0.000000  \n",
      "              75%      1.000000    0.000000  \n",
      "              max      2.000000    1.000000  \n",
      "3      female count  144.000000  144.000000  \n",
      "              mean     0.895833    0.500000  \n",
      "              std      1.531573    0.501745  \n",
      "              min      0.000000    0.000000  \n",
      "              25%      0.000000    0.000000  \n",
      "              50%      0.000000    0.500000  \n",
      "              75%      1.000000    1.000000  \n",
      "              max      8.000000    1.000000  \n",
      "       male   count  347.000000  347.000000  \n",
      "              mean     0.498559    0.135447  \n",
      "              std      1.288846    0.342694  \n",
      "              min      0.000000    0.000000  \n",
      "              25%      0.000000    0.000000  \n",
      "              50%      0.000000    0.000000  \n",
      "              75%      0.000000    0.000000  \n",
      "              max      8.000000    1.000000  \n"
     ]
    }
   ],
   "source": [
    "print df.groupby(['Pclass', 'Sex']).describe()"
   ]
  }
 ],
 "metadata": {
  "kernelspec": {
   "display_name": "Python 2",
   "language": "python",
   "name": "python2"
  },
  "language_info": {
   "codemirror_mode": {
    "name": "ipython",
    "version": 2
   },
   "file_extension": ".py",
   "mimetype": "text/x-python",
   "name": "python",
   "nbconvert_exporter": "python",
   "pygments_lexer": "ipython2",
   "version": "2.7.11"
  }
 },
 "nbformat": 4,
 "nbformat_minor": 0
}
