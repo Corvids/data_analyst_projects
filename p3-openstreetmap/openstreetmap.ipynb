{
 "cells": [
  {
   "cell_type": "markdown",
   "metadata": {},
   "source": [
    "# OpenStreetMap Data Case Study\n",
    "### Portland, Oregon\n",
    "#### source: https://mapzen.com/data/metro-extracts/metro/portland_oregon/"
   ]
  },
  {
   "cell_type": "code",
   "execution_count": 4,
   "metadata": {
    "collapsed": true
   },
   "outputs": [],
   "source": [
    "import xml.etree.cElementTree as cET \n",
    "import re as re\n",
    "from collections import defaultdict\n",
    "import pprint as pprint"
   ]
  },
  {
   "cell_type": "code",
   "execution_count": 5,
   "metadata": {
    "collapsed": true
   },
   "outputs": [],
   "source": [
    "example_file = \"sample.osm\""
   ]
  },
  {
   "cell_type": "code",
   "execution_count": 6,
   "metadata": {
    "collapsed": true
   },
   "outputs": [],
   "source": [
    "lower = re.compile(r'^([a-z]|_)*$')\n",
    "lower_colon = re.compile(r'^([a-z]|_)*:([a-z]|_)*$')\n",
    "problemchars = re.compile(r'[=\\+/&<>;\\'\"\\?%#$@\\,\\. \\t\\r\\n]')\n",
    "address_re = re.compile(r'^addr\\:')\n",
    "street_re = re.compile(r'^street')"
   ]
  },
  {
   "cell_type": "code",
   "execution_count": null,
   "metadata": {
    "collapsed": true
   },
   "outputs": [],
   "source": [
    "# street names -- full\n",
    "expected = [\"Alley\", \"Anex\", \"Arcade\", \"Avenue\"]\n",
    "\n",
    "# mapping abbreviated street names to full street names\n",
    "# link: http://pe.usps.gov/text/pub28/28apc_002.htm\n",
    "mapping = {\"Aly\" : \"Alley\",\n",
    "           \"Anx\" : \"Anex\",\n",
    "           \"Arc\" : \"Arcade\",\n",
    "           \"Ave\" : \"Avenue\",\n",
    "           \n",
    "            }"
   ]
  },
  {
   "cell_type": "code",
   "execution_count": 7,
   "metadata": {
    "collapsed": true
   },
   "outputs": [],
   "source": [
    "def count_tags(example_file):\n",
    "    tags = {}\n",
    "    for event, elem in cET.iterparse(filename):\n",
    "        if tags.has_key(elem.tag) == True:\n",
    "            tags[elem.tag] += 1\n",
    "        else:\n",
    "            tags[elem.tag] = 1\n",
    "    return tags\n",
    "\n",
    "def unique_users(example_file):\n",
    "    users = set()\n",
    "    for _, element in cET.iterparse(filename):\n",
    "        if 'user' in element.attrib:\n",
    "            users.update([element.attrib['user']])\n",
    "    return users"
   ]
  },
  {
   "cell_type": "code",
   "execution_count": 8,
   "metadata": {
    "collapsed": false
   },
   "outputs": [
    {
     "data": {
      "text/plain": [
       "{'member': 6650,\n",
       " 'nd': 734588,\n",
       " 'node': 638587,\n",
       " 'osm': 1,\n",
       " 'relation': 612,\n",
       " 'tag': 487534,\n",
       " 'way': 82289}"
      ]
     },
     "execution_count": 8,
     "metadata": {},
     "output_type": "execute_result"
    }
   ],
   "source": [
    "count_tags(example_file)"
   ]
  },
  {
   "cell_type": "code",
   "execution_count": 13,
   "metadata": {
    "collapsed": false
   },
   "outputs": [
    {
     "name": "stdout",
     "output_type": "stream",
     "text": [
      "742\n"
     ]
    }
   ],
   "source": [
    "print len(unique_users(example_file))"
   ]
  }
 ],
 "metadata": {
  "kernelspec": {
   "display_name": "Python 2",
   "language": "python",
   "name": "python2"
  },
  "language_info": {
   "codemirror_mode": {
    "name": "ipython",
    "version": 2
   },
   "file_extension": ".py",
   "mimetype": "text/x-python",
   "name": "python",
   "nbconvert_exporter": "python",
   "pygments_lexer": "ipython2",
   "version": "2.7.11"
  }
 },
 "nbformat": 4,
 "nbformat_minor": 0
}
