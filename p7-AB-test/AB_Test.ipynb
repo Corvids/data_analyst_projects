{
 "cells": [
  {
   "cell_type": "markdown",
   "metadata": {},
   "source": [
    "## Experiment Design\n",
    "### Metric Choice\n",
    "\n",
    "I will list below which metrics I will use in this experiment as invariant metrics or evaluation metrics.  **Invariant metrics** are metrics that shouldn't change across our experiment and control.  So, these metrics should be _independent_ of our experiment.  Conversely, our **evaluation metrics** are metrics which should change as a direct result from our experiment; therefore, these metrics are _dependent_ upon our experiment.\n",
    "\n",
    "I will also explain for each metric why I did or did not use it as an invariant metric and why you did or did not use it as an evaluation metric."
   ]
  },
  {
   "cell_type": "markdown",
   "metadata": {},
   "source": [
    "The metrics I chose to use as invariant metrics were:\n",
    "    - number of cookies\n",
    "    - number of clicks\n",
    "    - click-through-probability\n",
    "\n",
    "The metrics I chose to use as evaluation metrics were\n",
    "    - gross conversion\n",
    "    - retention\n",
    "    - net conversion"
   ]
  },
  {
   "cell_type": "markdown",
   "metadata": {},
   "source": [
    "The rationale I had for choosing or not choosing each metric is as follows:\n",
    "\n",
    "**Number of cookies:** I chose this as an invariant metric because the number of unique cookies occurs before each visitor sees the experiment so this metric is independent from the experiment.\n",
    "\n",
    "**Number of user-ids:** I didn't choose this metric as either an invariant metric or an evaluation metric because the number of users who enroll in the free trial is dependent on the experiment.\n",
    "\n",
    "**Number of clicks:** This is a good invariant metric because the number of unique cookies to click the \"Start Free Trial\" button is independent from the free trial screener (i.e. the click happens before the user sees the experimet).\n",
    "\n",
    "**Click-through-probability:** This is a good invariant metric because the user clicks before the experiment happens, so the click is independent from the experiment.\n",
    "\n",
    "**Gross conversion:** I chose this as an evaluation metric because the gross conversion is directly dependent on the results of the experiment.  The number of user-ids divided by the number of unique cookies should theoretically increase as a result of the experiment.\n",
    "\n",
    "**Retention:** I chose this as an evaluation metric because it is dependent on the experiment since those users who are asked to honestly asses their own time commitment (as is able to commit to that time) for the nanodegree are more likely to enroll past the trial period.\n",
    "\n",
    "**Net conversion:** I chose this as an evaluation metric because it is dependent on the effect of the experiment; the number of user-ids divided by the number of unique cookies to click on the \"Start Free Trial\" button should increase with the addition of the self-evaluation."
   ]
  },
  {
   "cell_type": "markdown",
   "metadata": {},
   "source": [
    "### Measuring Standard Deviation\n",
    "\n",
    "I will list below the standard deviation of each of the chosen evaluation metrics. I will also indicate whether I think the analytic estimate would be comparable to the the empirical variability, or whether I expect them to be different."
   ]
  },
  {
   "cell_type": "code",
   "execution_count": 1,
   "metadata": {
    "collapsed": true
   },
   "outputs": [],
   "source": [
    "import pandas as pd\n",
    "import numpy as np\n",
    "\n",
    "import matplotlib as plt\n",
    "import seaborn as sns\n",
    "\n",
    "from IPython.display import display \n",
    "\n",
    "%matplotlib inline\n",
    "\n",
    "# ignore warnings\n",
    "import warnings\n",
    "warnings.filterwarnings('ignore')"
   ]
  },
  {
   "cell_type": "code",
   "execution_count": 2,
   "metadata": {
    "collapsed": false
   },
   "outputs": [
    {
     "data": {
      "text/html": [
       "<div>\n",
       "<table border=\"1\" class=\"dataframe\">\n",
       "  <thead>\n",
       "    <tr style=\"text-align: right;\">\n",
       "      <th></th>\n",
       "      <th>metric</th>\n",
       "      <th>value</th>\n",
       "    </tr>\n",
       "  </thead>\n",
       "  <tbody>\n",
       "    <tr>\n",
       "      <th>0</th>\n",
       "      <td>Unique cookies to view page per day:</td>\n",
       "      <td>40000.000000</td>\n",
       "    </tr>\n",
       "    <tr>\n",
       "      <th>1</th>\n",
       "      <td>Unique cookies to click \"Start free trial\" per...</td>\n",
       "      <td>3200.000000</td>\n",
       "    </tr>\n",
       "    <tr>\n",
       "      <th>2</th>\n",
       "      <td>Enrollments per day:</td>\n",
       "      <td>660.000000</td>\n",
       "    </tr>\n",
       "    <tr>\n",
       "      <th>3</th>\n",
       "      <td>Click-through-probability on \"Start free trial\":</td>\n",
       "      <td>0.080000</td>\n",
       "    </tr>\n",
       "    <tr>\n",
       "      <th>4</th>\n",
       "      <td>Probability of enrolling, given click:</td>\n",
       "      <td>0.206250</td>\n",
       "    </tr>\n",
       "    <tr>\n",
       "      <th>5</th>\n",
       "      <td>Probability of payment, given enroll:</td>\n",
       "      <td>0.530000</td>\n",
       "    </tr>\n",
       "    <tr>\n",
       "      <th>6</th>\n",
       "      <td>Probability of payment, given click</td>\n",
       "      <td>0.109313</td>\n",
       "    </tr>\n",
       "  </tbody>\n",
       "</table>\n",
       "</div>"
      ],
      "text/plain": [
       "                                              metric         value\n",
       "0               Unique cookies to view page per day:  40000.000000\n",
       "1  Unique cookies to click \"Start free trial\" per...   3200.000000\n",
       "2                               Enrollments per day:    660.000000\n",
       "3   Click-through-probability on \"Start free trial\":      0.080000\n",
       "4             Probability of enrolling, given click:      0.206250\n",
       "5              Probability of payment, given enroll:      0.530000\n",
       "6                Probability of payment, given click      0.109313"
      ]
     },
     "metadata": {},
     "output_type": "display_data"
    }
   ],
   "source": [
    "# get baseline\n",
    "baseline = pd.read_csv(\"baseline.csv\", index_col=False,header = None, names = ['metric','value'])\n",
    "display( baseline )"
   ]
  },
  {
   "cell_type": "code",
   "execution_count": 3,
   "metadata": {
    "collapsed": false
   },
   "outputs": [
    {
     "name": "stdout",
     "output_type": "stream",
     "text": [
      "standard deviation of gross conversion: 0.0202\n"
     ]
    }
   ],
   "source": [
    "# given a sample size of 5000 cookies visiting enrollment page\n",
    "sample_size_cookies = 5000\n",
    "\n",
    "prob_enrolling = 0.206250\n",
    "unique_cookies = 40000\n",
    "unique_cookies_click = 3200\n",
    "\n",
    "std_gross_conv = round(np.sqrt((prob_enrolling*(1.-prob_enrolling))/    \\\n",
    "                               (sample_size_cookies*unique_cookies_click/unique_cookies)), 4)\n",
    "print( 'standard deviation of gross conversion:', std_gross_conv )"
   ]
  },
  {
   "cell_type": "code",
   "execution_count": 4,
   "metadata": {
    "collapsed": false
   },
   "outputs": [
    {
     "name": "stdout",
     "output_type": "stream",
     "text": [
      "standard deviation of retention: 0.0549\n"
     ]
    }
   ],
   "source": [
    "prob_pmt_enroll = 0.53\n",
    "enroll_per_day = 660\n",
    "\n",
    "std_retention = round(np.sqrt((prob_pmt_enroll*(1.-prob_pmt_enroll))/    \\\n",
    "                              (sample_size_cookies*enroll_per_day/unique_cookies)), 4)\n",
    "print( 'standard deviation of retention:', std_retention )"
   ]
  },
  {
   "cell_type": "code",
   "execution_count": 5,
   "metadata": {
    "collapsed": false
   },
   "outputs": [
    {
     "name": "stdout",
     "output_type": "stream",
     "text": [
      "standard deviation of net conversion: 0.0156\n"
     ]
    }
   ],
   "source": [
    "prob_pmt_click = 0.109313\n",
    "\n",
    "std_net_conv = round(np.sqrt((prob_pmt_click*(1.-prob_pmt_click))/    \\\n",
    "                              (sample_size_cookies*unique_cookies_click/unique_cookies)), 4)\n",
    "print( 'standard deviation of net conversion:', std_net_conv )"
   ]
  },
  {
   "cell_type": "markdown",
   "metadata": {},
   "source": [
    "### Sizing\n",
    "#### Number of Samples vs. Power\n",
    "\n",
    "I will not use the Bonferroni correction during my analysis phase.  To calculate the number of samples needed, I used the calculator at http://www.evanmiller.org/ab-testing/sample-size.html. The pageviews needed for each evaluation metric is as follows:"
   ]
  },
  {
   "cell_type": "markdown",
   "metadata": {},
   "source": [
    "##### Gross conversion\n",
    "\n",
    "* Baseline conversion rate = 20.6255%\n",
    "* d_min = 0.01\n",
    "* alpha = 0.05\n",
    "* 1 - beta = 0.2\n",
    "* calculated samples = 25835\n",
    "* required pageviews = (25835 / 0.08) * 2 = 645,875"
   ]
  },
  {
   "cell_type": "markdown",
   "metadata": {},
   "source": [
    "##### Retention\n",
    "\n",
    "* Baseline conversion rate = 53%\n",
    "* d_min = 0.01\n",
    "* alpha = 0.05\n",
    "* 1 - beta = 0.2\n",
    "* calculated samples = 39,115\n",
    "* required pageviews = ((39,115 / 0.08) / 0.20625) * 2 = 4,741,212"
   ]
  },
  {
   "cell_type": "markdown",
   "metadata": {},
   "source": [
    "##### Net conversion\n",
    "\n",
    "* Baseline conversion rate = 10.93125%\n",
    "* d_min = 0.0075\n",
    "* alpha = 0.05\n",
    "* 1 - beta = 0.2\n",
    "* calculated samples = 27,413\n",
    "* required pageviews = (27413 / 0.08) * 2  = 685,325"
   ]
  },
  {
   "cell_type": "markdown",
   "metadata": {},
   "source": [
    "**Retention** requires the largest number of pageviews at 4,741,212 so the number of pageviews the experiment will require is 4,741,212."
   ]
  },
  {
   "cell_type": "markdown",
   "metadata": {},
   "source": [
    "#### Duration vs. Exposure\n",
    "If we divert 100% of traffic, we'll need 119 days to run the experiment.  I chose to divert 100% of traffic because we need a large number of pageviews for this experiment and I'd like to gather the data as quickly as possible given the large required sample size.\n",
    "\n",
    "This experiment is not very risky since it will not affect current users, only potential new students."
   ]
  },
  {
   "cell_type": "code",
   "execution_count": 6,
   "metadata": {
    "collapsed": false
   },
   "outputs": [
    {
     "name": "stdout",
     "output_type": "stream",
     "text": [
      "At 100% diversion of traffic:\n",
      "For retention, well need: 118.5303 days\n",
      "For gross conversion, well need: 16.146875 days\n",
      "For net conversion, well need: 17.133125 days\n"
     ]
    }
   ],
   "source": [
    "days_retention = 4741212/unique_cookies\n",
    "days_gross_conversion = 645875/unique_cookies\n",
    "days_net_conversion = 685325/unique_cookies\n",
    "\n",
    "print('At 100% diversion of traffic:')\n",
    "print('For retention, we''ll need:', days_retention, 'days')\n",
    "print('For gross conversion, we''ll need:', days_gross_conversion, 'days')\n",
    "print('For net conversion, we''ll need:', days_net_conversion, 'days')"
   ]
  },
  {
   "cell_type": "markdown",
   "metadata": {},
   "source": [
    "## Experiment Analysis\n",
    "#### Sanity Checks\n",
    "For each of your invariant metrics, give the 95% confidence interval for the value you expect to observe, the actual observed value, and whether the metric passes your sanity check. (These should be the answers from the \"Sanity Checks\" quiz.)\n",
    "\n",
    "\n",
    "For any sanity check that did not pass, explain your best guess as to what went wrong based on the day-by-day data. Do not proceed to the rest of the analysis unless all sanity checks pass.\n"
   ]
  },
  {
   "cell_type": "code",
   "execution_count": 7,
   "metadata": {
    "collapsed": false
   },
   "outputs": [
    {
     "data": {
      "text/html": [
       "<div>\n",
       "<table border=\"1\" class=\"dataframe\">\n",
       "  <thead>\n",
       "    <tr style=\"text-align: right;\">\n",
       "      <th></th>\n",
       "      <th>control</th>\n",
       "      <th>experiment</th>\n",
       "      <th>sum_total</th>\n",
       "    </tr>\n",
       "  </thead>\n",
       "  <tbody>\n",
       "    <tr>\n",
       "      <th>Pageviews</th>\n",
       "      <td>345543.0</td>\n",
       "      <td>344660.0</td>\n",
       "      <td>690203.0</td>\n",
       "    </tr>\n",
       "    <tr>\n",
       "      <th>Clicks</th>\n",
       "      <td>28378.0</td>\n",
       "      <td>28325.0</td>\n",
       "      <td>56703.0</td>\n",
       "    </tr>\n",
       "    <tr>\n",
       "      <th>Enrollments</th>\n",
       "      <td>3785.0</td>\n",
       "      <td>3423.0</td>\n",
       "      <td>7208.0</td>\n",
       "    </tr>\n",
       "    <tr>\n",
       "      <th>Payments</th>\n",
       "      <td>2033.0</td>\n",
       "      <td>1945.0</td>\n",
       "      <td>3978.0</td>\n",
       "    </tr>\n",
       "  </tbody>\n",
       "</table>\n",
       "</div>"
      ],
      "text/plain": [
       "              control  experiment  sum_total\n",
       "Pageviews    345543.0    344660.0   690203.0\n",
       "Clicks        28378.0     28325.0    56703.0\n",
       "Enrollments    3785.0      3423.0     7208.0\n",
       "Payments       2033.0      1945.0     3978.0"
      ]
     },
     "metadata": {},
     "output_type": "display_data"
    }
   ],
   "source": [
    "df_control = pd.read_csv('control.csv')\n",
    "df_experiment = pd.read_csv('experiment.csv')\n",
    "\n",
    "df = pd.DataFrame({'control': pd.Series([df_control.Pageviews.sum(),\n",
    "                                            df_control.Clicks.sum(),\n",
    "                                            df_control.Enrollments.sum(),\n",
    "                                            df_control.Payments.sum()]),\n",
    "                   'experiment': pd.Series([df_experiment.Pageviews.sum(),\n",
    "                                            df_experiment.Clicks.sum(),\n",
    "                                            df_experiment.Enrollments.sum(),\n",
    "                                            df_experiment.Payments.sum()]),\n",
    "                   'sum_total': pd.Series([df_control.Pageviews.sum()+df_experiment.Pageviews.sum(),\n",
    "                                          df_control.Clicks.sum()+df_experiment.Clicks.sum(),\n",
    "                                          df_control.Enrollments.sum()+df_experiment.Enrollments.sum(),\n",
    "                                          df_control.Payments.sum()+df_experiment.Payments.sum()])\n",
    "                  \n",
    "                  })\n",
    "\n",
    "df.index = ['Pageviews', 'Clicks', 'Enrollments', 'Payments']\n",
    "\n",
    "display(df)"
   ]
  },
  {
   "cell_type": "code",
   "execution_count": 17,
   "metadata": {
    "collapsed": false
   },
   "outputs": [
    {
     "name": "stdout",
     "output_type": "stream",
     "text": [
      "---Sanity check for number of cookies---\n",
      "Confidence Intervel for pageviews:  [ 0.4988  0.5012]\n",
      "pageview passes? True with observed rate of: 0.5006\n"
     ]
    }
   ],
   "source": [
    "# probability that a user will be in control or experiment group\n",
    "print( '---Sanity check for number of cookies---')\n",
    "prob_group = 0.5\n",
    "SE_pageviews = np.sqrt((prob_group*(1.-prob_group))/(345543.0 + 344660.0))\n",
    "ME_pageviews = SE_pageviews * 1.96\n",
    "CI_pageviews = (0.5-ME_pageviews, 0.5+ME_pageviews)\n",
    "\n",
    "print( 'Confidence Intervel for pageviews: ', np.round(CI_pageviews, 4) )\n",
    "\n",
    "observed_pageviews = np.round(345543.0/690203.0, 4)\n",
    "pageviews_pass = True if (observed_pageviews>CI_pageviews[0] and observed_pageviews<CI_pageviews[1]) else False\n",
    "\n",
    "print('pageview passes?', pageviews_pass, 'with observed rate of:', observed_pageviews)"
   ]
  },
  {
   "cell_type": "code",
   "execution_count": 20,
   "metadata": {
    "collapsed": false
   },
   "outputs": [
    {
     "name": "stdout",
     "output_type": "stream",
     "text": [
      "---Sanity check for number of clicks on \"Start free trial\"---\n",
      "Confidence Intervel for clicks on \"Start free trial\":  [ 0.4959  0.5041]\n",
      "clicks on \"Start free trial\" passes? True with observed rate of: 0.5005\n"
     ]
    }
   ],
   "source": [
    "# probability that a user will be in control or experiment group\n",
    "print( '---Sanity check for number of clicks on \"Start free trial\"---')\n",
    "prob_group = 0.5\n",
    "SE_clicks = np.sqrt((prob_group*(1.-prob_group))/(28378.0 + 28325.0))\n",
    "ME_clicks = SE_clicks * 1.96\n",
    "CI_clicks = (0.5-ME_clicks, 0.5+ME_clicks)\n",
    "\n",
    "print( 'Confidence Intervel for clicks on \"Start free trial\": ', np.round(CI_clicks, 4) )\n",
    "\n",
    "observed_clicks = np.round(28378.0/56703.0, 4)\n",
    "clicks_pass = True if (observed_clicks>CI_clicks[0] and observed_clicks<CI_clicks[1]) else False\n",
    "\n",
    "print('clicks on \"Start free trial\" passes?', clicks_pass, 'with observed rate of:', observed_clicks)"
   ]
  },
  {
   "cell_type": "code",
   "execution_count": 19,
   "metadata": {
    "collapsed": false
   },
   "outputs": [
    {
     "name": "stdout",
     "output_type": "stream",
     "text": [
      "---Sanity check for click-through-probability---\n",
      "Confidence Intervel for clicks:  [ 0.4885  0.5115]\n",
      "click-through-probability clicks? False with observed rate of: 0.5251\n"
     ]
    }
   ],
   "source": [
    "# probability that a user will be in control or experiment group\n",
    "print( '---Sanity check for click-through-probability---')\n",
    "prob_group = 0.5\n",
    "SE_enrollments = np.sqrt((prob_group*(1.-prob_group))/(3785.0 + 3423.0))\n",
    "ME_enrollments = SE_enrollments * 1.96\n",
    "CI_enrollments = (0.5-ME_enrollments, 0.5+ME_enrollments)\n",
    "\n",
    "print( 'Confidence Intervel for clicks: ', np.round(CI_enrollments, 4) )\n",
    "\n",
    "observed_enrollments = np.round(3785.0/7208.0, 4)\n",
    "enrollments_pass = True if (observed_enrollments>CI_enrollments[0] and observed_enrollments<CI_enrollments[1]) else False\n",
    "\n",
    "print('click-through-probability clicks?', enrollments_pass, 'with observed rate of:', observed_enrollments)"
   ]
  },
  {
   "cell_type": "markdown",
   "metadata": {},
   "source": [
    "#### Result Analysis\n",
    "##### Effect Size Tests\n",
    "For each of your evaluation metrics, give a 95% confidence interval around the difference between the experiment and control groups. Indicate whether each metric is statistically and practically significant. (These should be the answers from the \"Effect Size Tests\" quiz.)"
   ]
  },
  {
   "cell_type": "code",
   "execution_count": null,
   "metadata": {
    "collapsed": true
   },
   "outputs": [],
   "source": []
  },
  {
   "cell_type": "markdown",
   "metadata": {},
   "source": [
    "##### Sign Tests\n",
    "For each of your evaluation metrics, do a sign test using the day-by-day data, and report the p-value of the sign test and whether the result is statistically significant. (These should be the answers from the \"Sign Tests\" quiz.)\n"
   ]
  },
  {
   "cell_type": "markdown",
   "metadata": {},
   "source": [
    "##### Summary\n",
    "State whether you used the Bonferroni correction, and explain why or why not. If there are any discrepancies between the effect size hypothesis tests and the sign tests, describe the discrepancy and why you think it arose."
   ]
  },
  {
   "cell_type": "code",
   "execution_count": null,
   "metadata": {
    "collapsed": true
   },
   "outputs": [],
   "source": []
  },
  {
   "cell_type": "markdown",
   "metadata": {},
   "source": [
    "#### Recommendation\n",
    "Make a recommendation and briefly describe your reasoning."
   ]
  },
  {
   "cell_type": "markdown",
   "metadata": {},
   "source": [
    "## Follow-Up Experiment\n",
    "Give a high-level description of the follow up experiment you would run, what your hypothesis would be, what metrics you would want to measure, what your unit of diversion would be, and your reasoning for these choices."
   ]
  }
 ],
 "metadata": {
  "anaconda-cloud": {},
  "kernelspec": {
   "display_name": "Python [conda root]",
   "language": "python",
   "name": "conda-root-py"
  },
  "language_info": {
   "codemirror_mode": {
    "name": "ipython",
    "version": 3
   },
   "file_extension": ".py",
   "mimetype": "text/x-python",
   "name": "python",
   "nbconvert_exporter": "python",
   "pygments_lexer": "ipython3",
   "version": "3.5.2"
  }
 },
 "nbformat": 4,
 "nbformat_minor": 1
}
